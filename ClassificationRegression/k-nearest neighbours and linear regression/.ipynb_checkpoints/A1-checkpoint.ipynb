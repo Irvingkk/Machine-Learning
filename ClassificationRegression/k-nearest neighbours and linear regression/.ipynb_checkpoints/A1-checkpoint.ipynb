{
 "cells": [
  {
   "cell_type": "code",
   "execution_count": 7,
   "metadata": {},
   "outputs": [],
   "source": [
    "import numpy as np\n",
    "import matplotlib.pylab as plt\n",
    "import csv\n",
    "import operator\n",
    "from collections import Counter"
   ]
  },
  {
   "cell_type": "code",
   "execution_count": 15,
   "metadata": {},
   "outputs": [],
   "source": [
    "def readfile(filename):\n",
    "    TrainData = []\n",
    "    TrainLabel= []\n",
    "    TestData= []\n",
    "    TestLabel= []\n",
    "    for i in range(1, 11):\n",
    "        if filename == 'knn':\n",
    "            filename1 = 'knn-dataset/trainData' + str(i) +'.csv'\n",
    "            filename2 = 'knn-dataset/trainLabels' + str(i) +'.csv'\n",
    "            filename3 = 'knn-dataset/testData.csv'\n",
    "            filename4 = 'knn-dataset/testLabels.csv'\n",
    "        else:\n",
    "            filename1 = 'regression-dataset/trainInput' + str(i) +'.csv'\n",
    "            filename2 = 'regression-dataset/trainTarget' + str(i) +'.csv'\n",
    "            filename3 = 'regression-dataset/testInput.csv'\n",
    "            filename4 = 'regression-dataset/testTarget.csv'\n",
    "        \n",
    "        arr = []\n",
    "        with open(filename1, 'r') as csvFile:\n",
    "            reader = csv.reader(csvFile)\n",
    "            for row in reader:\n",
    "                for n in range(len(row)):\n",
    "                    if filename == 'knn':\n",
    "                        row[n] = int(row[n])\n",
    "                    else:\n",
    "                        row[n] = float(row[n])\n",
    "                arr.append(row)\n",
    "        csvFile.close()\n",
    "        TrainData.append(arr)\n",
    "        \n",
    "        arr=[]\n",
    "        with open(filename2, 'r') as csvFile:\n",
    "            reader = csv.reader(csvFile)\n",
    "            for row in reader:\n",
    "                if filename == 'knn':\n",
    "                    arr.append(int(row[0]))\n",
    "                else:\n",
    "                    arr.append(float(row[0]))\n",
    "        csvFile.close()\n",
    "        TrainLabel.append(arr)\n",
    "    \n",
    "    with open(filename3, 'r') as csvFile:\n",
    "        reader = csv.reader(csvFile)\n",
    "        for row in reader:\n",
    "            for n in range(len(row)):\n",
    "                if filename == 'knn':\n",
    "                    row[n] = int(row[n])\n",
    "                else:\n",
    "                    row[n] = float(row[n])\n",
    "            TestData.append(row)\n",
    "    csvFile.close()\n",
    "    \n",
    "    with open(filename4, 'r') as csvFile:\n",
    "        reader = csv.reader(csvFile)\n",
    "        for row in reader:\n",
    "            if filename == 'knn':\n",
    "                TestLabel.append(int(row[0]))\n",
    "            else:\n",
    "                TestLabel.append(float(row[0]))\n",
    "    csvFile.close()\n",
    "    return TrainData, TrainLabel, TestData, TestLabel"
   ]
  },
  {
   "cell_type": "code",
   "execution_count": 16,
   "metadata": {},
   "outputs": [],
   "source": [
    "TrainData, TrainLabel, TestData, TestLabel= readfile('knn')\n",
    "TrainData = np.array(TrainData)\n",
    "TrainLabel = np.array(TrainLabel)\n",
    "TestData = np.array(TestData)\n",
    "TestLabel =np.array(TestLabel)\n",
    "\n",
    "accuracySet = []\n",
    "for k in range(1, 31):\n",
    "    foldAccuracy = 0\n",
    "    for fold in range(10):\n",
    "        ## combine other 9 folds\n",
    "        subTrainData = np.reshape(np.delete(TrainData, fold, 0), (900, 64))\n",
    "        subTrainLabel = np.reshape(np.delete(TrainLabel, fold, 0), (900,))\n",
    "        \n",
    "        ## \n",
    "        yLabel = []\n",
    "        for row in range(100):\n",
    "            disArr = [subTrainData[i] - TrainData[fold][row] for i in range(900)]\n",
    "            disArr = np.linalg.norm(disArr, axis = 1)\n",
    "            kSmallIndexArr =np.argpartition(disArr, kth= k)[:k]\n",
    "            labelArr = [subTrainLabel[kSmallIndexArr[i]] for i in range(k)]\n",
    "            domainLabel = Counter(labelArr).most_common()[0][0]\n",
    "            yLabel.append(domainLabel)\n",
    "        match = 0\n",
    "        for row in range(100):\n",
    "            if yLabel[row] == TrainLabel[fold][row]:\n",
    "                match+=1\n",
    "        accuracy = match /100\n",
    "        ## evaluate the accuracy of one fold\n",
    "        foldAccuracy += accuracy\n",
    "    foldAccuracy /=10\n",
    "    accuracySet.append(foldAccuracy)\n"
   ]
  },
  {
   "cell_type": "code",
   "execution_count": 17,
   "metadata": {},
   "outputs": [
    {
     "data": {
      "image/png": "[encoded data removed]",
      "text/plain": [
       "<Figure size 432x288 with 1 Axes>"
      ]
     },
     "metadata": {
      "needs_background": "light"
     },
     "output_type": "display_data"
    },
    {
     "name": "stdout",
     "output_type": "stream",
     "text": [
      "The best k is 19\n"
     ]
    }
   ],
   "source": [
    "plt.plot(range(1, 31), accuracySet)\n",
    "plt.xlabel('k value')\n",
    "plt.ylabel('accuracy')\n",
    "plt.show()\n",
    "bestk = np.argmax(accuracySet) + 1\n",
    "print(\"The best k is \" + str(bestk))"
   ]
  },
  {
   "cell_type": "code",
   "execution_count": 18,
   "metadata": {},
   "outputs": [
    {
     "name": "stdout",
     "output_type": "stream",
     "text": [
      "The accuracy on the test set of k-nearest neighbours with the best k is 0.7272727272727273\n"
     ]
    }
   ],
   "source": [
    "trainSet = np.reshape(TrainData, (1000,64))\n",
    "trainLab = np.reshape(TrainLabel, (1000,))\n",
    "labels = []\n",
    "for i in range(110):\n",
    "    disArr = [trainSet[row] - TestData[i] for row in range(1000)]\n",
    "    disArr = np.linalg.norm(disArr, axis=1)\n",
    "    SmallestKIndex = np.argpartition(disArr, bestk)[:bestk]\n",
    "    labelSet = [trainLab[SmallestKIndex[j]] for j in range(bestk)]\n",
    "    domainLabel = Counter(labelSet).most_common()[0][0]\n",
    "    labels.append(domainLabel)\n",
    "acc = 0\n",
    "for i in range(110):\n",
    "    if labels[i] == TestLabel[i]:\n",
    "        acc +=1\n",
    "acc /=110\n",
    "print(\"The accuracy on the test set of k-nearest neighbours with the best k is \"+ str(acc))"
   ]
  },
  {
   "cell_type": "code",
   "execution_count": 19,
   "metadata": {},
   "outputs": [],
   "source": [
    "trainData, trainTarget, testData, testTarget= readfile('regression')\n",
    "lambdaArr = np.arange(0,4.1,0.1)\n",
    "mse_set =[]\n",
    "for eachLambda in lambdaArr:\n",
    "    mseForLambda = 0\n",
    "    for fold in range(10):\n",
    "        ## combine other 9 folds of both train and target set\n",
    "        subTrainData = np.delete(trainData, fold, 0)\n",
    "        subTrainTarget = np.delete(trainTarget, fold, 0)\n",
    "        subTrainData = np.reshape(subTrainData, (180, 2))\n",
    "        subTrainData = np.c_[np.ones((180, 1)), subTrainData]\n",
    "        subTrainTarget = np.reshape(subTrainTarget, 180)\n",
    "        ## Train:calculate w\n",
    "        sumA = np.zeros((3,3))\n",
    "        sumb = np.zeros(3)\n",
    "        for i in range(20*9):\n",
    "            arr = np.array([subTrainData[i]])\n",
    "            sumA += arr.transpose() @ arr\n",
    "            sumb += subTrainTarget[i] * subTrainData[i]\n",
    "        w = np.linalg.inv(sumA + eachLambda*np.identity(3)) @ np.array([sumb]).transpose()\n",
    "        \n",
    "        ## Test: \n",
    "        testInput= np.c_[np.ones((20,1)), np.array(trainData)[fold]]\n",
    "        y = testInput @ w\n",
    "        ## calculate accuracy using loss function\n",
    "        mse = 0\n",
    "        for i in range(20):\n",
    "            mse += (y[i] - trainTarget[fold][i])**2\n",
    "        mse /=20\n",
    "        mseForLambda += mse\n",
    "    mseForLambda /= 10\n",
    "    mse_set.append(mseForLambda)\n"
   ]
  },
  {
   "cell_type": "code",
   "execution_count": 20,
   "metadata": {},
   "outputs": [
    {
     "data": {
      "image/png": "[encoded data removed]",
      "text/plain": [
       "<Figure size 432x288 with 1 Axes>"
      ]
     },
     "metadata": {
      "needs_background": "light"
     },
     "output_type": "display_data"
    }
   ],
   "source": [
    "plt.plot(lambdaArr, mse_set)\n",
    "plt.xlabel('lambda value')\n",
    "plt.ylabel('Mean Square Error')\n",
    "plt.show()"
   ]
  },
  {
   "cell_type": "code",
   "execution_count": 21,
   "metadata": {},
   "outputs": [
    {
     "name": "stdout",
     "output_type": "stream",
     "text": [
      "The best lambda is 1.3\n"
     ]
    }
   ],
   "source": [
    "bestLambda = np.argmin(mse_set) * 0.1\n",
    "print('The best lambda is ' + str(bestLambda))"
   ]
  },
  {
   "cell_type": "code",
   "execution_count": 22,
   "metadata": {},
   "outputs": [
    {
     "name": "stdout",
     "output_type": "stream",
     "text": [
      "The Mean Square Error on the test set for the best lambda is [1.43611035]\n"
     ]
    }
   ],
   "source": [
    "## train on all training data set\n",
    "A = np.zeros((3,3))\n",
    "b = np.zeros((1,3))\n",
    "for fold in range(10):\n",
    "    for row in range(20):\n",
    "        matrix = np.array([[1] + trainData[fold][row]])\n",
    "        A += matrix.transpose() @ matrix\n",
    "        b += trainTarget[fold][row] *np.array([1] + trainData[fold][row])\n",
    "b = b.transpose()\n",
    "A += np.identity(3) * bestLambda\n",
    "w = np.linalg.inv(A) @ b\n",
    "        \n",
    "## test on testInput set\n",
    "y = np.c_[np.ones(len(testData)), np.array(testData)] @ w\n",
    "mse = 0\n",
    "for i in range(len(testData)):\n",
    "    mse += (y[i]- testTarget[i]) ** 2\n",
    "mse /= len(testData)\n",
    "print('The Mean Square Error on the test set for the best lambda is ' + str(mse))\n",
    "         \n",
    "        \n",
    "        "
   ]
  },
  {
   "cell_type": "code",
   "execution_count": null,
   "metadata": {},
   "outputs": [],
   "source": []
  },
  {
   "cell_type": "code",
   "execution_count": null,
   "metadata": {},
   "outputs": [],
   "source": []
  }
 ],
 "metadata": {
  "kernelspec": {
   "display_name": "Python 3",
   "language": "python",
   "name": "python3"
  },
  "language_info": {
   "codemirror_mode": {
    "name": "ipython",
    "version": 3
   },
   "file_extension": ".py",
   "mimetype": "text/x-python",
   "name": "python",
   "nbconvert_exporter": "python",
   "pygments_lexer": "ipython3",
   "version": "3.7.1"
  }
 },
 "nbformat": 4,
 "nbformat_minor": 2
}
