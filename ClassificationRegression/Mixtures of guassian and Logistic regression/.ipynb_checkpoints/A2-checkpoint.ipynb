{
 "cells": [
  {
   "cell_type": "code",
   "execution_count": 29,
   "metadata": {},
   "outputs": [],
   "source": [
    "import numpy as np\n",
    "import matplotlib.pylab as plt\n",
    "%matplotlib inline\n",
    "import csv\n",
    "import math"
   ]
  },
  {
   "cell_type": "markdown",
   "metadata": {},
   "source": [
    "# Question 1a"
   ]
  },
  {
   "cell_type": "code",
   "execution_count": 9,
   "metadata": {},
   "outputs": [],
   "source": [
    "def readfile():\n",
    "    testData = []\n",
    "    testLabel= []\n",
    "    trainData = []\n",
    "    trainLabel= []\n",
    "    for i in range(1, 11):\n",
    "        filename1 = 'knn-dataset/trainData' + str(i) +'.csv'\n",
    "        filename2 = 'knn-dataset/trainLabels' + str(i) +'.csv'\n",
    "        \n",
    "        arr = []\n",
    "        with open(filename1, 'r') as csvFile:\n",
    "            reader = csv.reader(csvFile)\n",
    "            for row in reader:\n",
    "                for n in range(len(row)):\n",
    "                    row[n] = int(row[n])\n",
    "                arr.append(row)\n",
    "        csvFile.close()\n",
    "        trainData.append(arr)\n",
    "        \n",
    "        arr=[]\n",
    "        with open(filename2, 'r') as csvFile:\n",
    "            reader = csv.reader(csvFile)\n",
    "            for row in reader:\n",
    "                arr.append(int(row[0]))\n",
    "        csvFile.close()\n",
    "        trainLabel.append(arr)\n",
    "    with open('knn-dataset/testData.csv', 'r') as csvFile:\n",
    "        reader = csv.reader(csvFile)\n",
    "        for row in reader:\n",
    "            for n in range(len(row)):\n",
    "                row[n] = int(row[n])\n",
    "            testData.append(row)\n",
    "    csvFile.close()\n",
    "    \n",
    "    with open('knn-dataset/testLabels.csv', 'r') as csvFile:\n",
    "        reader = csv.reader(csvFile)\n",
    "        for row in reader:\n",
    "            testLabel.append(int(row[0]))\n",
    "    csvFile.close()\n",
    "    return trainData, trainLabel, testData, testLabel"
   ]
  },
  {
   "cell_type": "code",
   "execution_count": 38,
   "metadata": {},
   "outputs": [
    {
     "name": "stdout",
     "output_type": "stream",
     "text": [
      "the accuracy of mixtures of Guassian is 0.8909090909090909\n"
     ]
    }
   ],
   "source": [
    "TrainData, TrainLabels, TestData, TestLabels =readfile()\n",
    "TrainLabels = np.array(TrainLabels) - 5\n",
    "TestLabels = np.array(TestLabels) - 5\n",
    "trainLabel = TrainLabels\n",
    "testLabel = TestLabels\n",
    "trainData = np.reshape(TrainData, (1000, 64))\n",
    "trainLabel = np.reshape(trainLabel, (1000,))\n",
    "pi = np.sum(trainLabel)/len(trainLabel)\n",
    "indexArr1 = []\n",
    "indexArr2 = []\n",
    "for i in range(1000):\n",
    "    if trainLabel[i] == 0:\n",
    "        indexArr1.append(i)\n",
    "    else:\n",
    "        indexArr2.append(i)\n",
    "m1 = np.delete(trainData, indexArr2, 0)\n",
    "m2 = np.delete(trainData, indexArr1, 0)\n",
    "n1 = len(m1)\n",
    "n2 = len(m2)\n",
    "xy = [trainData[i] *trainLabel[i] for i in range(1000)]\n",
    "mu1 = np.sum(xy, axis = 0)/n1\n",
    "xy = [trainData[i] *(1-trainLabel[i]) for i in range(1000)]\n",
    "mu2 = np.sum(xy, axis = 0)/n2\n",
    "def helper(m):\n",
    "    x = (m - mu1)\n",
    "    return np.reshape(x, (64,1))@np.reshape(x, (1,64))\n",
    "s1 = np.sum([helper(m) for m in m1], axis = 0)/ n1\n",
    "s2 = np.sum([helper(m) for m in m2], axis = 0) / n2\n",
    "comatrix = n1/1000 * s1 + n2/1000 *s2\n",
    "x1 = [row - mu1 for row in trainData]\n",
    "x2 = [row - mu2 for row in trainData]\n",
    "def helper2(x, mu):\n",
    "    return -0.5 * np.reshape(x - mu, (1,64)) @ np.linalg.inv(comatrix)@ np.reshape(x - mu, (64,1))\n",
    "arr = []\n",
    "for x in TestData:\n",
    "    pr_x_c1 = math.exp(helper2(x, mu1)) * pi\n",
    "    pr_x_c2 = math.exp(helper2(x, mu2)) *(1-pi)\n",
    "    if(pr_x_c1 < pr_x_c2):\n",
    "        arr.append(0)\n",
    "    else:\n",
    "        arr.append(1)\n",
    "match = 0\n",
    "for i in range(110):\n",
    "    if arr[i] == testLabel[i]:\n",
    "        match +=1\n",
    "accuracy = match/110\n",
    "print(\"the accuracy of mixtures of Guassian is \"+ str(accuracy))"
   ]
  },
  {
   "cell_type": "markdown",
   "metadata": {},
   "source": [
    "# 1b"
   ]
  },
  {
   "cell_type": "code",
   "execution_count": 40,
   "metadata": {},
   "outputs": [],
   "source": [
    "TestData = np.c_[np.ones((110, 1)), TestData]\n",
    "## reshape the 1000 training data \n",
    "subtrainData = np.reshape(TrainData, (1000, 64))\n",
    "subtrainData = np.c_[np.ones((1000, 1)), subtrainData]##shape:(1000,65)\n",
    "subtrainLabel = np.reshape(TrainLabels, (1000,)) ## shape:(1000,)\n",
    "\n",
    "def logistic(z):\n",
    "    return 1/ (1+math.exp(0-z))\n",
    "\n",
    "accSet = []\n",
    "for eachlambda in range(0, 10000, 500):\n",
    "    accSum = 0\n",
    "    for fold in range(10):\n",
    "        \n",
    "        w = np.zeros(65)\n",
    "        ## extract 900 training data and reshape it.\n",
    "        subTrainData = np.delete(TrainData, fold, 0)\n",
    "        subTrainLabel = np.delete(TrainLabels, fold, 0)\n",
    "        subTrainData = np.reshape(subTrainData, (900, 64))\n",
    "        subTrainData = np.c_[np.ones((900, 1)), subTrainData]##shape:(900,65)\n",
    "        subTrainLabel = np.reshape(subTrainLabel, (900,)) ## shape:(900,)\n",
    "        \n",
    "        ## reshape the test data\n",
    "        subTestData = np.c_[np.ones((100, 1)), TrainData[fold]]\n",
    "        subTestLabel = TrainLabels[fold]\n",
    "        \n",
    "        def product(row):\n",
    "            pro =logistic(np.dot(subTrainData[row], w))\n",
    "            return pro\n",
    "        def cal_out(row):\n",
    "            if np.dot(w, subTestData[row]) > 0:\n",
    "                return 1\n",
    "            return 0\n",
    "        ## train weight w\n",
    "        for i in range(10):\n",
    "            Matrix =[(product(row) - subTrainLabel[row]) * subTrainData[row] for row in range(900)]\n",
    "            gradient = np.sum(Matrix, axis = 0) + eachlambda * w\n",
    "            \n",
    "            ##calculate hassian\n",
    "            im = np.identity(900)\n",
    "            rnn = [im[row] * product(row)*(1-product(row)) for row in range(900)]\n",
    "            h = subTrainData.T @ rnn @subTrainData + eachlambda * np.identity(65)\n",
    "            ## reweight\n",
    "            w -= np.linalg.inv(h) @ gradient\n",
    "        output = [cal_out(row) for row in range(100)]\n",
    "        def cal_match(row):\n",
    "            if output[row] == subTestLabel[row]:\n",
    "                return 1\n",
    "            return 0\n",
    "        match = np.sum([cal_match(row) for row in range(100)])\n",
    "        accuracy = match / 100\n",
    "        accSum += accuracy\n",
    "    aveAcc = accSum / 10\n",
    "    accSet.append(aveAcc)"
   ]
  },
  {
   "cell_type": "code",
   "execution_count": 41,
   "metadata": {},
   "outputs": [
    {
     "name": "stdout",
     "output_type": "stream",
     "text": [
      "the accuracy of logistic regression is 0.91\n"
     ]
    }
   ],
   "source": [
    "## Use lambda to train w on training set\n",
    "def product2(row):\n",
    "    pro =logistic(np.dot(subtrainData[row], w))\n",
    "    return pro\n",
    "w= np.zeros(65)\n",
    "for i in range(10):\n",
    "    Matrix =[(product2(row) - subtrainLabel[row]) * subtrainData[row] for row in range(900)]\n",
    "    gradient = np.sum(Matrix, axis = 0) + bestlambda * w\n",
    "\n",
    "    ##calculate hassian\n",
    "    im = np.identity(1000)\n",
    "    rnn = [im[row] * product2(row)*(1-product2(row)) for row in range(1000)]\n",
    "    h = subtrainData.T @ rnn @subtrainData + bestlambda * np.identity(65)\n",
    "    ## reweight\n",
    "    w -= np.linalg.inv(h) @ gradient\n",
    "def classifier(answer):\n",
    "    if answer >= 0:\n",
    "        return 1\n",
    "    return 0\n",
    "output = [classifier(np.dot(w, TestData[row])) for row in range(110)]\n",
    "match = 0\n",
    "for i in range(110):\n",
    "    if output[i] == TestLabels[i]:\n",
    "        match +=1\n",
    "Accuracy = match /110\n",
    "print(\"the accuracy of logistic regression is \"+ str(accuracy))"
   ]
  },
  {
   "cell_type": "code",
   "execution_count": 43,
   "metadata": {},
   "outputs": [
    {
     "data": {
      "image/png": "[encoded data removed]",
      "text/plain": [
       "<Figure size 432x288 with 1 Axes>"
      ]
     },
     "metadata": {
      "needs_background": "light"
     },
     "output_type": "display_data"
    },
    {
     "name": "stdout",
     "output_type": "stream",
     "text": [
      "the best lambda is 6500\n"
     ]
    }
   ],
   "source": [
    "plt.xlabel('lambda')\n",
    "plt.ylabel('accuracy')\n",
    "plt.plot(np.arange(0,10000, 500), accSet)\n",
    "plt.show()\n",
    "bestlambda = np.argmax(accSet) * 500\n",
    "print('the best lambda is '+ str(bestlambda))"
   ]
  },
  {
   "cell_type": "markdown",
   "metadata": {},
   "source": [
    "Brief discussion:\n",
    "The mixture gaussian has more parameters, since the mixture of Guassian has a joint distribution over inputs and ouputs; whereas logistic regression encodes a conditional distribution over the outputs given the inputs.\n",
    "The logistic regression requires more amount of computation than the mixture of Guassian since we need to do the gradient descent multiple times until it converges in logistic regression; for mixture of Guassian, we only need to implement the maximum likehood once. \n",
    "For accuracy, the logistic regression(0.91) gets higher accuracy than the mixture of Guassian(0.89).\n",
    "\n",
    "The result from Mixture of Gaussian and logistic regression has higher accuracy than the k nearest neighbours on both training set and the test set. The reason might be that k nearest neighbour is non-linear regression; whereas other two methods are linear regression. \n",
    "I think for the classification problem with small number of classes we use Mixture of Gaussian and logistic regression. For large number of classes, we use k nearest neighbours."
   ]
  },
  {
   "cell_type": "markdown",
   "metadata": {},
   "source": [
    "# Question 2a"
   ]
  },
  {
   "cell_type": "markdown",
   "metadata": {},
   "source": [
    "This question is submitted using another pdf"
   ]
  },
  {
   "cell_type": "markdown",
   "metadata": {},
   "source": [
    "# 2b"
   ]
  },
  {
   "cell_type": "code",
   "execution_count": 45,
   "metadata": {},
   "outputs": [
    {
     "name": "stdout",
     "output_type": "stream",
     "text": [
      "The classification accuracy on 1000 training data point is 0.892\n"
     ]
    }
   ],
   "source": [
    "w = np.zeros(65)\n",
    "\n",
    "def logistic(z):\n",
    "    return 1/ (1+math.exp(0-z))\n",
    "def product(row):\n",
    "#             print(np.dot(subTrainData[row], w))\n",
    "#             print(w)\n",
    "    pro =logistic(np.dot(subtrainData[row], w))\n",
    "\n",
    "#             print(pro)\n",
    "    return pro\n",
    "## train weight w\n",
    "for i in range(10):\n",
    "    ##calculate gradient\n",
    "#             for i in range(900):\n",
    "#                 print(product(i) - subTrainLabel[i])\n",
    "#                 print(subTrainData[i])\n",
    "    Matrix =[(product(row) - subtrainLabel[row]) * subtrainData[row] for row in range(1000)]\n",
    "    gradient = np.sum(Matrix, axis = 0) \n",
    "#             print(gradient)\n",
    "\n",
    "    ##calculate hassian\n",
    "    im = np.identity(1000)\n",
    "    rnn = [im[row] * product(row)*(1-product(row)) for row in range(1000)]\n",
    "    h = subtrainData.T @ rnn @subtrainData \n",
    "    ## reweight\n",
    "    w -= np.linalg.inv(h) @ gradient \n",
    "    \n",
    "output = [classifier(np.dot(w, subtrainData[row])) for row in range(1000)]\n",
    "match = 0\n",
    "for i in range(1000):\n",
    "    if output[i] == subtrainLabel[i]:\n",
    "        match +=1\n",
    "Accuracy = match /1000\n",
    "print('The classification accuracy on 1000 training data point is '+ str(Accuracy))"
   ]
  },
  {
   "cell_type": "markdown",
   "metadata": {},
   "source": [
    "I apply the logistics regression model on the training set of Q1 in above code. In the experiment, I applied 10 times newton methods until w converges. Finally, I got 89.2% accuracy. That means the logistic regression model can perfectly fit the q1 training data. \n",
    "\n",
    "Since logistic regression is a linear regression, the training set of q1 is linear seperable."
   ]
  },
  {
   "cell_type": "code",
   "execution_count": null,
   "metadata": {},
   "outputs": [],
   "source": []
  }
 ],
 "metadata": {
  "kernelspec": {
   "display_name": "Python 3",
   "language": "python",
   "name": "python3"
  },
  "language_info": {
   "codemirror_mode": {
    "name": "ipython",
    "version": 3
   },
   "file_extension": ".py",
   "mimetype": "text/x-python",
   "name": "python",
   "nbconvert_exporter": "python",
   "pygments_lexer": "ipython3",
   "version": "3.7.1"
  }
 },
 "nbformat": 4,
 "nbformat_minor": 2
}
