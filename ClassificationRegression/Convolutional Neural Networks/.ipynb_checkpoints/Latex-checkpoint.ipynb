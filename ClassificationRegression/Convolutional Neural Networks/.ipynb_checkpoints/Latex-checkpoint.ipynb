{
 "cells": [
  {
   "cell_type": "markdown",
   "metadata": {},
   "source": [
    "(a)\n",
    "Since it interpolates the points(1,1),(2,1) and (3,0), <br />\n",
    "S(1) = 1, S(2) = 1, S(3)=0\n",
    "a=1, a+b+c =1, e=1,e+f+g = 0\n",
    "\n",
    "(b)\n",
    "$$\n",
    "\\begin{align}\n",
    "S'(x) &= b+2c(x-1) - \\frac{1}{2}(x-1)(x-2) -\\frac{1}{4}(x-1)^2 \\qquad\\textrm{when}1 \\leq{x} <2 \\\\\n",
    "S'(x) &= f+2g(x-2) + \\frac{1}{2}(x-2)(x-3) +\\frac{1}{4}(x-2)^2 \\qquad\\textrm{when}2 \\leq{x}\\leq{3} \\\\\n",
    "\\end{align}\n",
    "$$\n",
    "Since S'(x) is continuous at $x=2$, $b+ 2c - \\frac{1}{4} =f $\n",
    "\n",
    "(c)\n",
    "$$\n",
    "\\begin{align}\n",
    "S''(x) &= 2c-\\frac{1}{2}(x-2)-\\frac{1}{2}(x-1)-\\frac{1}{2}(x-1)\n",
    "\\qquad\\textrm{when}1 \\leq{x} <2 \\\\\n",
    "S''(x) &= 2g-\\frac{1}{2}(x-3)+\\frac{1}{2}(x-2)+\\frac{1}{2}(x-2)\n",
    "\\qquad\\textrm{when}2 \\leq{x} \\leq{3} \\\\\n",
    "\\end{align}\n",
    "$$\n",
    "So\n",
    "$$\n",
    "\\begin{align}\n",
    "S''(1) = 2c+\\frac{1}{2} &= 0 \\\\\n",
    "c &= -\\frac{1}{4} \\\\\n",
    "S''(3) = 2g + 1 &=0 \\\\\n",
    "g &= -\\frac{1}{2} \n",
    "\\end{align}\n",
    "$$\n",
    "\n",
    "(d)\n",
    "Since \n",
    "$$\n",
    "\\begin{align}\n",
    "a &= 1, \\\\ 1+b+c &=1,\\\\ b+c &= 0,\\\\ b =-c&=\\frac{1}{4} \\\\ 1+f-\\frac{1}{2} &=0 \\\\ f&=-\\frac{1}{2}\n",
    "\\end{align}\n",
    "$$\n",
    "By solving the equations, we get \n",
    "$$\n",
    "\\begin{align}\n",
    "a = 1, b =\\frac{1}{4}, c = -\\frac{1}{4}, e = 1, f =-\\frac{1}{2}, g=-\\frac{1}{2}\n",
    "\\end{align}\n",
    "$$"
   ]
  },
  {
   "cell_type": "code",
   "execution_count": null,
   "metadata": {},
   "outputs": [],
   "source": []
  },
  {
   "cell_type": "code",
   "execution_count": null,
   "metadata": {},
   "outputs": [],
   "source": []
  }
 ],
 "metadata": {
  "kernelspec": {
   "display_name": "Python 3",
   "language": "python",
   "name": "python3"
  },
  "language_info": {
   "codemirror_mode": {
    "name": "ipython",
    "version": 3
   },
   "file_extension": ".py",
   "mimetype": "text/x-python",
   "name": "python",
   "nbconvert_exporter": "python",
   "pygments_lexer": "ipython3",
   "version": "3.7.1"
  }
 },
 "nbformat": 4,
 "nbformat_minor": 2
}
