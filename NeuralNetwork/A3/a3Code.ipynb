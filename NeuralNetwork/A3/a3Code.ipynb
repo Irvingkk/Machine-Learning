{
 "cells": [
  {
   "cell_type": "markdown",
   "metadata": {},
   "source": [
    "# A3"
   ]
  },
  {
   "cell_type": "markdown",
   "metadata": {},
   "source": [
    "# TO FIX\n",
    "- ask for permission for microphone\n",
    "- fix playsound crashing problem\n",
    "- fix arrow jumping rate\n",
    "\n",
    "# TO SOLVE\n",
    "- how to play midi\n",
    "- how to generate a midi file on the fly (for chord pratice)\n",
    "- how to make current playing note from midi and current displaying (internal notes) synchronized (for song practice)\n",
    "\n",
    "# TODO (functionality)\n",
    "- play correct\n",
    "  - play check mark sound then, then correct sound(toggle)\n",
    "  - change background colour to different colour\n",
    "- can play (multiple) notes by midi\n",
    "- interval practice mode\n",
    "  - IntervalPracticeFilter filter\n",
    "  - play sound, long press, short tap\n",
    "- triad practice mode\n",
    "  - ChordPracticeFilter filter\n",
    "  - play sound, long press, short tap\n",
    "- Global Settings\n",
    "  - setting page\n",
    "    - least stable time\n",
    "    - error allowance rate\n",
    "    - second rate\n",
    "    - debugging mode\n",
    "    - auto playback answer  when correct\n",
    "  - save config when closed the app, reload it when open the app\n",
    "- song practice mode\n",
    "  - songPlayingSubmode\n",
    "  - songPracticeSubmode\n",
    "  - Library page\n",
    "- store history of played notes\n",
    "  - database of notes\n",
    "  - SUMMARY page\n",
    "    - report top/bottom 10 notes\n",
    "    - a sentence to cheer up user\n",
    "\n",
    "# User Experience improvement"
   ]
  },
  {
   "cell_type": "code",
   "execution_count": 1,
   "metadata": {
    "code_folding": [
     0
    ]
   },
   "outputs": [],
   "source": [
    "# Standard imports\n",
    "import numpy as np\n",
    "import matplotlib.pylab as plt\n",
    "%matplotlib inline\n",
    "import Network as Network\n",
    "import copy"
   ]
  },
  {
   "cell_type": "markdown",
   "metadata": {
    "heading_collapsed": true
   },
   "source": [
    "# Q1: Vanishing Gradient"
   ]
  },
  {
   "cell_type": "markdown",
   "metadata": {
    "hidden": true
   },
   "source": [
    "## (a)"
   ]
  },
  {
   "cell_type": "markdown",
   "metadata": {
    "hidden": true
   },
   "source": [
    "Since we use logistic activation function,\n",
    "$$\n",
    "\\begin{align}\n",
    "\\sigma(z) = \\frac{1}{1+e^{-z}} \n",
    "\\qquad\n",
    "\\sigma\\prime(z) =\\frac{e^{-z}}{\\left(1+ e^{-z} \\right)^2} \n",
    "\\end{align}\n",
    "$$\n",
    "Since\n",
    "$$\n",
    "\\begin{align}\n",
    "\\mid w\\sigma\\prime(wh+b)\\mid\\ &\\geq1\\\\\n",
    "\\mid w \\frac{e^{-wh-b}}{(1+e^{-wh-b})^2}\\mid\\ &\\geq1 \n",
    "\\end{align}\n",
    "$$\n",
    "Let $x=e^{-wh-b}$, x > 0 since $e^{-wh-b} > 0$. So\n",
    "$$ \n",
    "\\begin{align}\n",
    "\\mid w \\frac{x}{(1+x)^2}\\mid \\ &\\geq 1 \\\\\n",
    "\\mid wx\\mid &\\geq (1+x)^2 \\qquad\\textrm{since } (1+x)^2 \\geq0 \\\\\n",
    "\\mid w\\mid &\\geq \\frac{1+x^2+2x}{x} \\qquad\\textrm{since } x >0 \\\\\n",
    "\\mid w\\mid &\\geq \\frac{1}{x} +x+2 \n",
    "\\end{align}\n",
    "$$\n",
    "$$\n",
    "\\begin{align}\n",
    "&\\textrm{Let } y(x)=\\frac{1}{x} +x, \\textrm{ so } y\\prime(x)=1-\\frac{1}{x^2}. \\\\\n",
    "&\\textrm{While } x\\in(0,1),\\ y\\prime(x) < 0; \\\\\n",
    "&\\textrm{While } x\\in(1,\\infty),\\ y\\prime(x) > 0.\\\\\n",
    "&\\textrm{So } y(x) \\textrm{ is minimum at } x=1, \\textrm{which is }y(1)=2 \\\\\n",
    "&\\textrm{So} \\mid w\\mid \\ \\geq2+2 \\\\\n",
    "&\\mid w\\mid \\ \\geq4\n",
    "\\end{align}\n",
    "$$"
   ]
  },
  {
   "cell_type": "markdown",
   "metadata": {
    "hidden": true
   },
   "source": [
    "## (b)"
   ]
  },
  {
   "cell_type": "markdown",
   "metadata": {
    "hidden": true
   },
   "source": [
    "We know $\\mid w \\sigma\\prime(wh+b)\\mid\\ \\geq1$ and $ \\mid w\\mid \\ \\geq4$, so\n",
    "$$\n",
    "\\begin{align}\n",
    "\\mid w \\frac{e^{-wh-b}}{(1+e^{-wh-b})^2} \\ &\\geq 1 \\\\\n",
    "\\mid w \\frac{1}{e^{wh+b}}\\mid\\ &\\geq (1+e^{-wh-b})^2 \\\\\n",
    "\\mid w \\frac{1}{e^{wh+b}} \\mid\\ &\\geq (\\frac{e^{wh+b}+1}{e^{wh+b}})^2 \\\\\n",
    "\\textrm{multiply $(e^{wh+b})^2$ to both sides} \\\\\n",
    "\\mid we^{wh+b} \\mid \\ &\\geq (e^{wh+b}+1)^2 \\\\\n",
    "\\mid w\\mid e^{wh+b}\\ &\\geq (e^{wh+b} + 1)^2 \\\\\n",
    "0 &\\geq (e^{wh+b})^2 +(2-\\mid w\\mid)e^{wh+b} +1 \n",
    "\\end{align}\n",
    "$$\n",
    "Since $\\mid w\\mid \\geq4$, we have $\\sqrt{(2-\\mid w\\mid)^2 -4} \\geq0$. We can get the root of above equation: \n",
    "$$\n",
    "\\begin{align}\n",
    "Root = \\frac{\\mid w\\mid -2 \\pm\\sqrt{(2-\\mid w\\mid)^2-4}}{2} \n",
    "\\end{align}\n",
    "$$\n",
    "So \n",
    "$$\n",
    "\\begin{align}\n",
    "\\frac{\\mid w\\mid -2-\\sqrt{(2-\\mid w\\mid)^2-4)}}{2} &\\leq e^{wh+b} \\leq \\frac{\\mid w\\mid -2+\\sqrt{(2-\\mid w\\mid)^2-4)}}{2} \\\\\n",
    "\\frac{\\mid w\\mid}{2} -1 - \\frac{\\sqrt{w^2-4\\mid w\\mid}}{2} &\\leq e^{wh+b} \\leq \\frac{\\mid w\\mid}{2} -1 + \\frac{\\sqrt{w^2-4\\mid w\\mid}}{2} \\\\\n",
    "\\ln \\left(\\frac{\\mid w\\mid}{2} -1 - \\frac{\\sqrt{w^2-4\\mid w\\mid}}{2}\\right) -b &\\leq wh \\leq \\ln \\left(\\frac{\\mid w\\mid}{2} -1 + \\frac{\\sqrt{w^2-4\\mid w\\mid}}{2}\\right) -b\n",
    "\\end{align}\n",
    "$$\n",
    "Since $\\mid w\\mid \\geq 4$, we discuss two cases, $w\\geq4$ and$w \\leq -4$\n",
    "\n",
    "If $w\\geq4$\n",
    "Remove all absolute value sign\n",
    "$$\n",
    "\\begin{align}\n",
    "\\frac{\\ln \\left(\\frac{w}{2} -1 - \\frac{\\sqrt{w^2-4w}}{2}\\right) -b}{w} &\\leq h\\leq \\frac{\\ln \\left(\\frac{w}{2} -1 + \\frac{\\sqrt{w^2-4w}}{2}\\right) -b}{w} \\\\\n",
    "\\textrm{width of h} &\\leq \\frac{\\ln\\left(\\frac{\\frac{w}{2} -1+ \\frac{\\sqrt{w^2-4w}}{2}}{\\frac{w}{2} -1 - \\frac{\\sqrt{w^2-4w}}{2}} \\right)}{w} \\\\\n",
    "\\textrm{Rationalize the denominator inside ln:} \\\\\n",
    "\\textrm{width} &\\leq \\frac{\\ln \\left(\\frac{(\\frac{w}{2}-1+ \\frac{\\sqrt{w^2-4w}}{2})^2} {(\\frac{w}{2} -1)^2 - \\frac{w^2}{4} +w}\\right)}{w} \\\\\n",
    "\\textrm{Simplify denominator inside ln:} \\\\\n",
    "\\textrm{width} &\\leq \\frac{\\ln \\left(\\frac{(\\frac{w}{2}-1+ \\frac{\\sqrt{w^2-4w}}{2})^2} {1}\\right)}{w} \\\\\n",
    "\\textrm{width} &\\leq \\frac{2}{w} \\ln\\left(\\frac{w}{2}-1+\\frac{\\sqrt{w^2-4w}}{2}\\right) \\\\\n",
    "\\textrm{width} &\\leq \\frac{2}{w} \\ln\\left(\\frac{w}{2}(1+ \\sqrt{1- \\frac{4}{w}})-1\\right) \\\\\n",
    "\\textrm{add absolute value sign on the w} \\\\\n",
    "\\textrm{width} &\\leq \\frac{2}{\\mid w\\mid} \\ln\\left(\\frac{\\mid w\\mid}{2}(1+ \\sqrt{1- \\frac{4}{\\mid w\\mid}})-1\\right) \n",
    "\\end{align}\n",
    "$$\n",
    "\n",
    "If $w\\leq -4$\n",
    "Remove all absolute value sign\n",
    "$$\n",
    "\\begin{align}\n",
    "\\frac{\\ln \\left(-\\frac{w}{2} -1 - \\frac{\\sqrt{w^2+4w}}{2}\\right) -b}{w} &\\geq h\\geq \\frac{\\ln \\left(-\\frac{w}{2} -1 + \\frac{\\sqrt{w^2+4w}}{2}\\right) -b}{w} \\\\\n",
    "\\textrm{width of h} &\\leq \\frac{\\ln\\left(\\frac{\\frac{w}{2} +1+ \\frac{\\sqrt{w^2+4w}}{2}}{\\frac{w}{2} +1 - \\frac{\\sqrt{w^2+4w}}{2}} \\right)}{w} \\\\\n",
    "\\textrm{Rationalize the numerator inside ln:} \\\\\n",
    "\\textrm{width} &\\leq \\frac{ln\\left(\\frac{(\\frac{w}{2}+1)^2- \\frac{w^2}{4}-w}{\\left(\\frac{w}{2} +1-\\sqrt{\\frac{w^2}{4}+w}\\right)^2}\\right)}{w} \\\\\n",
    "\\textrm{simplify the numerator inside ln:} \\\\\n",
    "\\textrm{width} &\\leq \\frac{\\ln \\left(\\frac{1}{(\\frac{w}{2}+1- \\sqrt{\\frac{w^2}{4}+w})^2}\\right)}{w} \\\\\n",
    "\\textrm{width} &\\leq \\frac{-ln\\left(\\frac{w}{2}+1-\\sqrt{\\frac{w^2}{4}+w}\\right)^2}{w} \\\\\n",
    "\\textrm{add absolute value sign on the w. all w become -|w|,since $w\\leq-4$} \\\\\n",
    "\\textrm{width} &\\leq \\frac{ln\\left(-\\frac{\\mid w\\mid}{2}+1-\\sqrt{\\frac{w^2}{4}-\\mid w\\mid}\\right)^2}{\\mid w\\mid} \\\\\n",
    "\\textrm{adding minus inside the ln doesn't change equation, since square} \\\\\n",
    "\\textrm{width} &\\leq \\frac{ln\\left(\\frac{\\mid w\\mid}{2}-1+\\sqrt{\\frac{w^2}{4}-\\mid w\\mid}\\right)^2}{\\mid w\\mid} \\\\\n",
    "\\textrm{width} &\\leq \\frac{2}{\\mid w\\mid} \\ln\\left(\\frac{\\mid w\\mid}{2}(1+ \\sqrt{1- \\frac{4}{\\mid w\\mid}})-1\\right) \n",
    "\\end{align}\n",
    "$$\n",
    "Therefore, h can range over an interval no greater in width than $\\frac{2}{\\mid w\\mid} \\ln\\left(\\frac{\\mid w\\mid}{2}(1+ \\sqrt{1- \\frac{4}{\\mid w\\mid}})-1\\right) $"
   ]
  },
  {
   "cell_type": "markdown",
   "metadata": {
    "hidden": true
   },
   "source": [
    "## (c) Plots"
   ]
  },
  {
   "cell_type": "code",
   "execution_count": 13,
   "metadata": {
    "hidden": true
   },
   "outputs": [
    {
     "name": "stdout",
     "output_type": "stream",
     "text": [
      "when |w| = 6.9, the function has the max value: 0.447741435400141\n"
     ]
    },
    {
     "data": {
      "image/png": "[encoded data removed]",
      "text/plain": [
       "<Figure size 432x288 with 1 Axes>"
      ]
     },
     "metadata": {
      "needs_background": "light"
     },
     "output_type": "display_data"
    }
   ],
   "source": [
    "def y(w):\n",
    "    return 2/abs(w)* np.log(abs(w)/2 *(1+ np.sqrt(1-4/abs(w))) -1)\n",
    "data1 = np.linspace(-10, -4, 100)\n",
    "data2 = np.linspace(4, 10, 100)\n",
    "data = np.concatenate((data1, data2), axis=None)\n",
    "out1 = y(data1)\n",
    "out2 = y(data2)\n",
    "plt.plot(data1, out1, \"b-\")\n",
    "plt.plot(data2, out2, \"b-\")\n",
    "plt.xlabel(\"input\")\n",
    "plt.ylabel(\"value of expression\")\n",
    "\n",
    "out= y(data)\n",
    "print(\"when |w| = \" + format(abs(data[np.argmax(out)]), '.2g') + \", the function has the max value: \"+ str(np.amax(out)))\n",
    "    "
   ]
  },
  {
   "cell_type": "markdown",
   "metadata": {},
   "source": [
    "# Q2: Dropout"
   ]
  },
  {
   "cell_type": "markdown",
   "metadata": {},
   "source": [
    "## Dataset"
   ]
  },
  {
   "cell_type": "code",
   "execution_count": 2,
   "metadata": {
    "code_folding": []
   },
   "outputs": [],
   "source": [
    "def GenerateDatasets(n): # n is the size of training set\n",
    "    # 1D -> 1D (line mapping)\n",
    "    n_input = 1\n",
    "    n_output = 1\n",
    "    noise = 0.5\n",
    "\n",
    "    #np.random.seed(452)\n",
    "    a = np.random.rand()/2.\n",
    "    m = np.random.rand() + 0.5\n",
    "    b = np.random.rand()-0.5\n",
    "\n",
    "    def myfunc(x):\n",
    "        return a*x**2 + m*x + b\n",
    "\n",
    "    # Create a training dataset\n",
    "    n_samples = n\n",
    "    training_output = []\n",
    "    training_input = []\n",
    "    xv = np.linspace(-1, 1, n_samples)\n",
    "    for idx in range(n_samples):\n",
    "        #x = np.random.rand()*2. - 1.\n",
    "        x = xv[idx]\n",
    "        t = myfunc(x) + np.random.normal(scale=noise)\n",
    "        training_input.append(np.array([x]))\n",
    "        training_output.append(np.array([t]))\n",
    "\n",
    "    # Create a testing dataset\n",
    "    test_input = []\n",
    "    test_output = []\n",
    "    n_test_samples = 300\n",
    "    xv = np.linspace(-1, 1, n_test_samples)\n",
    "    for idx in range(n_test_samples):\n",
    "        #x = np.random.rand()*2. - 1.\n",
    "        x = xv[idx] #+ np.random.normal(scale=0.1)\n",
    "        t = myfunc(x) + np.random.normal(scale=noise)\n",
    "        test_input.append(np.array([x]))\n",
    "        test_output.append(np.array([t]))\n",
    "\n",
    "\n",
    "    train = [np.array(training_input), np.array(training_output)]\n",
    "    test = [np.array(test_input), np.array(test_output)]\n",
    "    return train, test"
   ]
  },
  {
   "cell_type": "markdown",
   "metadata": {},
   "source": [
    "## Sample Code"
   ]
  },
  {
   "cell_type": "code",
   "execution_count": 3,
   "metadata": {},
   "outputs": [],
   "source": [
    "# Here is an example, creating a Network object.\n",
    "net = Network.Network(cost='cross-entropy')\n",
    "net.AddLayer(Network.Layer(1))\n",
    "net.AddLayer(Network.Layer(6, act='logistic'))\n",
    "net.AddLayer(Network.Layer(1, act='logistic'))"
   ]
  },
  {
   "cell_type": "code",
   "execution_count": 4,
   "metadata": {},
   "outputs": [],
   "source": [
    "# Generate the training and testing datasets\n",
    "P = 5\n",
    "train, test = GenerateDatasets(P)"
   ]
  },
  {
   "cell_type": "code",
   "execution_count": 5,
   "metadata": {},
   "outputs": [],
   "source": [
    "# Train the network\n",
    "progress = net.SGD(train[0], train[1], epochs=100, lrate=1.)"
   ]
  },
  {
   "cell_type": "code",
   "execution_count": 6,
   "metadata": {},
   "outputs": [
    {
     "name": "stdout",
     "output_type": "stream",
     "text": [
      "Training cost = 0.716252891820204\n",
      "    Test cost = 0.5767459969033711\n"
     ]
    }
   ],
   "source": [
    "# Evaluate the cost \n",
    "print('Training cost = '+str(net.Evaluate(train[0], train[1])))\n",
    "print('    Test cost = '+str(net.Evaluate(test[0], test[1])))\n",
    "\n",
    "# These results won't necessarily make sense, since the network model\n",
    "# might not be the right choice for the dataset."
   ]
  },
  {
   "cell_type": "markdown",
   "metadata": {},
   "source": [
    "## 2 (a), (b), 3 (a) Completing the RobustNetwork Class"
   ]
  },
  {
   "cell_type": "code",
   "execution_count": 7,
   "metadata": {},
   "outputs": [],
   "source": [
    "class RobustNetwork(Network.Network):\n",
    "    \n",
    "    def FeedForward(self, x, dropout=0):\n",
    "        '''\n",
    "            y = net.FeedForward(x, dropout=0)\n",
    "\n",
    "            Runs the network forward, starting with x as input.\n",
    "            However, a random subset of the hidden nodes are set to 0 activity.\n",
    "            Returns the activity of the output layer.\n",
    "\n",
    "            Inputs:\n",
    "              x is a batch of inputs\n",
    "              dropout is a probability that a node is dropped, in [0,1]\n",
    "              \n",
    "            Outputs:\n",
    "              y is the batch of outputs (no dropout or the output layer)\n",
    "        '''\n",
    "        if dropout==0.:\n",
    "            self.dropout_nonzero = False  # Internal flag for dropout\n",
    "            super(RobustNetwork, self).FeedForward(x)\n",
    "        else:\n",
    "            self.dropout_nonzero = True   # Internal flag for dropout\n",
    "            \n",
    "            x = np.array(x)  # Convert input to array, in case it's not\n",
    "            \n",
    "            self.lyr[0].h = x # Set input layer\n",
    "            \n",
    "            self.mask = []  # mask will record which nodes were dropped\n",
    "            self.mask.append(None)  # Input layer does not have dropout\n",
    "            \n",
    "            layers = 0\n",
    "            \n",
    "            # Loop over connections\n",
    "            for pre,post,W in zip(self.lyr[:-1], self.lyr[1:], self.W):\n",
    "                \n",
    "                # Calc. input current to next layer\n",
    "                post.z = pre.h @ W + post.b\n",
    "\n",
    "                # Use activation function to get activities\n",
    "                post.h = post.sigma(post.z)\n",
    "                if layers != self.n_layers - 2:\n",
    "                    mask = np.arange(post.N)\n",
    "                    np.random.shuffle(mask)\n",
    "                    for i in range(post.N):\n",
    "                        if mask[i] >= (post.N * dropout):\n",
    "                            mask[i] = 1\n",
    "                        else:\n",
    "                            mask[i] = 0\n",
    "                    mask = mask/(1-dropout)\n",
    "                    self.mask.append(mask)\n",
    "                    post.h = post.h *mask\n",
    "                layers += 1\n",
    "        # Return activity of output layer\n",
    "        return self.lyr[-1].h\n",
    "    \n",
    "    \n",
    "    \n",
    "    def BackProp(self, t, lrate=0.05, decay=0.):\n",
    "        '''\n",
    "            net.BackProp(targets, lrate=0.05)\n",
    "            \n",
    "            Given the current network state and targets t, updates the connection\n",
    "            weights and biases using the backpropagation algorithm.\n",
    "            \n",
    "            Inputs:\n",
    "             t      an array of targets (number of samples must match the\n",
    "                    network's output)\n",
    "             lrate  learning rate\n",
    "             decay  is the coefficient for weight/bias decay\n",
    "        '''\n",
    "        if self.dropout_nonzero == False and decay == 0.:\n",
    "            super(RobustNetwork, self).BackProp(t, lrate)\n",
    "        else:\n",
    "            t = np.array(t)  # convert t to an array, in case it's not\n",
    "            # Error gradient for top layer\n",
    "            dEdz = self.TopGradient(t)\n",
    "            # Loop down through the layers\n",
    "            for i in range(self.n_layers-2, -1, -1):\n",
    "                pre = self.lyr[i]\n",
    "\n",
    "                # Gradient w.r.t. weights\n",
    "                dEdW = pre.h.T @ dEdz + 2 * decay* self.W[i]\n",
    "\n",
    "                # Gradient w.r.t. biases\n",
    "                dEdb = np.sum(dEdz, axis=0)\n",
    "                # Project error gradient down to layer below.\n",
    "                if i>0 and self.dropout_nonzero == True:\n",
    "                    dEdz = ( dEdz @ self.W[i].T ) *self.mask[i] * pre.sigma_z_p(pre.z)\n",
    "\n",
    "                # Update weights and biases\n",
    "                self.W[i] -= lrate*dEdW\n",
    "                self.lyr[i+1].b -= lrate*dEdb\n",
    "    \n",
    "    \n",
    "    def SGD(self, inputs, targets, lrate=0.05, epochs=1, batch_size=10, decay=0, dropout=0):\n",
    "        '''\n",
    "            progress = net.SGD(inputs, targets, lrate=0.05, epochs=1, decay=0, dropout=0)\n",
    "\n",
    "            Performs Stochastic Gradient Descent on the network.\n",
    "            Run through the dataset in batches 'epochs' number of times, incrementing the\n",
    "            network weights after each batch. For each epoch, it\n",
    "            shuffles the dataset.\n",
    "\n",
    "            Inputs:\n",
    "              inputs  is an array of input samples\n",
    "              targets is a corresponding array of targets\n",
    "              lrate   is the learning rate (try 0.001 to 5)\n",
    "              epochs  is the number of times to go through the training data\n",
    "              decay   is the decay coefficient for the weights and biases\n",
    "              dropout is the dropout probability\n",
    "              \n",
    "            Outputs:\n",
    "              progress is an (expochs)x2 array with epoch in the first column, and \n",
    "                      cost in the second column\n",
    "        '''\n",
    "        loss_history = []\n",
    "        for k in range(epochs):\n",
    "            batches = Network.MakeBatches(inputs, targets, batch_size=batch_size, shuffle=True)\n",
    "            for mini_batch in batches:\n",
    "                self.FeedForward(mini_batch[0], dropout=dropout)\n",
    "                self.BackProp(mini_batch[1], decay=decay)\n",
    "\n",
    "            loss_history.append([k, self.Evaluate(inputs, targets)])\n",
    "\n",
    "        return np.array(loss_history)\n"
   ]
  },
  {
   "cell_type": "markdown",
   "metadata": {},
   "source": [
    "## (c) Create the Network"
   ]
  },
  {
   "cell_type": "code",
   "execution_count": 8,
   "metadata": {},
   "outputs": [],
   "source": [
    "original_net = RobustNetwork(\"MSE\")\n",
    "original_net.AddLayer(Network.Layer(1))\n",
    "original_net.AddLayer(Network.Layer(10, \"arctan\"))\n",
    "original_net.AddLayer(Network.Layer(1, \"identity\"))\n",
    "dropout_net = copy.deepcopy(original_net)"
   ]
  },
  {
   "cell_type": "markdown",
   "metadata": {},
   "source": [
    "## (d) Train and Evaluate without dropout"
   ]
  },
  {
   "cell_type": "code",
   "execution_count": 12,
   "metadata": {},
   "outputs": [
    {
     "name": "stdout",
     "output_type": "stream",
     "text": [
      "[array([[-1. ],\n",
      "       [-0.5],\n",
      "       [ 0. ],\n",
      "       [ 0.5],\n",
      "       [ 1. ]]), array([[-1.05117397],\n",
      "       [-0.62117558],\n",
      "       [ 0.54462731],\n",
      "       [ 0.60401149],\n",
      "       [ 0.80294673]])]\n",
      "[[0.00000000e+00 3.03641722e-01]\n",
      " [1.00000000e+00 2.96851856e-01]\n",
      " [2.00000000e+00 2.90929407e-01]\n",
      " ...\n",
      " [4.99700000e+03 1.54203892e-03]\n",
      " [4.99800000e+03 1.54151890e-03]\n",
      " [4.99900000e+03 1.54099909e-03]]\n",
      "Training Set \n",
      "MSE: 0.0015409990915002574\n",
      "Test Set \n",
      "MSE: 0.3484456158640893\n"
     ]
    }
   ],
   "source": [
    "train, test = GenerateDatasets(5)\n",
    "print(train)\n",
    "print(original_net.SGD(train[0], train[1], lrate=1, epochs=5000, batch_size=5, dropout=0))\n",
    "print(\"Training Set \\n\" + \"MSE: \" + str(original_net.Evaluate(train[0], train[1])))\n",
    "print(\"Test Set \\n\" + \"MSE: \" + str(original_net.Evaluate(test[0], test[1])))"
   ]
  },
  {
   "cell_type": "markdown",
   "metadata": {},
   "source": [
    "## (e) Train and Evaluate with dropout"
   ]
  },
  {
   "cell_type": "code",
   "execution_count": 54,
   "metadata": {
    "scrolled": true
   },
   "outputs": [
    {
     "name": "stdout",
     "output_type": "stream",
     "text": [
      "Training Set \n",
      "MSE: 0.12208649416031339\n",
      "Test Set \n",
      "MSE: 0.2743630184788909\n"
     ]
    }
   ],
   "source": [
    "loss_history = dropout_net.SGD(train[0], train[1], lrate=1, epochs=5000, batch_size=5, dropout=0.2)\n",
    "print(\"Training Set \\n\" + \"MSE: \" + str(dropout_net.Evaluate(train[0], train[1])))\n",
    "print(\"Test Set \\n\" + \"MSE: \" + str(dropout_net.Evaluate(test[0], test[1])))"
   ]
  },
  {
   "cell_type": "markdown",
   "metadata": {},
   "source": [
    "## (f) Plot training data and models"
   ]
  },
  {
   "cell_type": "code",
   "execution_count": 55,
   "metadata": {},
   "outputs": [
    {
     "data": {
      "text/plain": [
       "Text(0, 0.5, 'outputs')"
      ]
     },
     "execution_count": 55,
     "metadata": {},
     "output_type": "execute_result"
    },
    {
     "data": {
      "image/png": "[encoded data removed]",
      "text/plain": [
       "<Figure size 432x288 with 1 Axes>"
      ]
     },
     "metadata": {
      "needs_background": "light"
     },
     "output_type": "display_data"
    }
   ],
   "source": [
    "y1 = original_net.FeedForward(train[0])\n",
    "\n",
    "y2 = dropout_net.FeedForward(train[0], 0.2)\n",
    "\n",
    "plt.plot(train[0], train[1], \"bo\")\n",
    "plt.plot(test[0], test[1], \"yo\")\n",
    "plt.plot(train[0], y1, \"b--\")\n",
    "plt.plot(train[0], y2, \"r--\")\n",
    "plt.xlabel(\"inputs\") \n",
    "plt.ylabel(\"outputs\") "
   ]
  },
  {
   "cell_type": "markdown",
   "metadata": {},
   "source": [
    "## (g) Average performance over 10 datasets"
   ]
  },
  {
   "cell_type": "code",
   "execution_count": 56,
   "metadata": {},
   "outputs": [
    {
     "name": "stdout",
     "output_type": "stream",
     "text": [
      "Experiment #0:  Original_net cost: 0.5457636091126452, Dropout_net cost: 0.30467267322318775\n",
      "Experiment #1:  Original_net cost: 0.4586553262378277, Dropout_net cost: 0.2723298021215559\n",
      "Experiment #2:  Original_net cost: 0.5985352166874319, Dropout_net cost: 0.3111119504507439\n",
      "Experiment #3:  Original_net cost: 0.6791551520172925, Dropout_net cost: 0.7902284750365052\n",
      "Experiment #4:  Original_net cost: 0.5419246539902157, Dropout_net cost: 0.3301828697225028\n",
      "Experiment #5:  Original_net cost: 0.4776315560755516, Dropout_net cost: 0.40007270023934577\n",
      "Experiment #6:  Original_net cost: 0.7464609401328732, Dropout_net cost: 0.6656808717180293\n",
      "Experiment #7:  Original_net cost: 0.36120366549684463, Dropout_net cost: 0.2817905094527241\n",
      "Experiment #8:  Original_net cost: 0.28105649200878274, Dropout_net cost: 0.30380777055761055\n",
      "Experiment #9:  Original_net cost: 0.4822005890643565, Dropout_net cost: 0.34288670795823273\n",
      "mean cost of original_net for 10 runs: 0.5172587200823822\n",
      "mean cost of dropout_net for 10 runs: 0.4002764330480438\n"
     ]
    }
   ],
   "source": [
    "arr = np.zeros((10, 3))\n",
    "for i in range(10):\n",
    "    original_net = RobustNetwork(\"MSE\")\n",
    "    original_net.AddLayer(Network.Layer(1))\n",
    "    original_net.AddLayer(Network.Layer(10, \"arctan\"))\n",
    "    original_net.AddLayer(Network.Layer(1, \"identity\"))\n",
    "    dropout_net = copy.deepcopy(original_net)\n",
    "    train2, test2 = GenerateDatasets(5)\n",
    "    original_net.SGD(train2[0], train2[1], lrate=1, epochs=5000, batch_size=5)\n",
    "    dropout_net.SGD(train2[0], train2[1], lrate=1, epochs=5000, batch_size=5, dropout=0.2)\n",
    "    origin_cost = original_net.Evaluate(test2[0], test2[1])\n",
    "    dropout_cost = dropout_net.Evaluate(test2[0], test2[1])\n",
    "    arr[i][0] = i\n",
    "    arr[i][1] = origin_cost\n",
    "    arr[i][2] = dropout_cost\n",
    "    print(\"Experiment #\" + str(i) + \":  Original_net cost: \"+str(origin_cost) + \", Dropout_net cost: \"+ str(dropout_cost))\n",
    "\n",
    "#print mean cost of both network\n",
    "sum1 = 0\n",
    "sum2 = 0\n",
    "for row in arr:\n",
    "    sum1 += row[1]\n",
    "    sum2 += row[2]\n",
    "mean1 = sum1/10\n",
    "mean2 = sum2/10\n",
    "print(\"mean cost of original_net for 10 runs: \" + str(mean1))\n",
    "print(\"mean cost of dropout_net for 10 runs: \" + str(mean2))"
   ]
  },
  {
   "cell_type": "markdown",
   "metadata": {},
   "source": [
    "The dropout network is preferred based on the low mean cost. We adopt dropout network, since we train a bunch of different diminished network and combine them to form the final network, and dropout disallows sensitivity to particular combinations of nodes, so that the dropout network becomes more general and robust."
   ]
  },
  {
   "cell_type": "markdown",
   "metadata": {},
   "source": [
    "# Q3: Weight Decay"
   ]
  },
  {
   "cell_type": "markdown",
   "metadata": {},
   "source": [
    "## (a) Implement weigth decay in BackProp (see code above)"
   ]
  },
  {
   "cell_type": "markdown",
   "metadata": {},
   "source": [
    "## (b) Average performance over 10 datasets"
   ]
  },
  {
   "cell_type": "code",
   "execution_count": 116,
   "metadata": {},
   "outputs": [
    {
     "name": "stdout",
     "output_type": "stream",
     "text": [
      "Experiment #0:  Original_net cost: 0.317212881926184, Decay_net cost: 0.2858967458143252\n",
      "Experiment #1:  Original_net cost: 0.4975392326912792, Decay_net cost: 0.4867500987756419\n",
      "Experiment #2:  Original_net cost: 0.41539901237275073, Decay_net cost: 0.35614935060403924\n",
      "Experiment #3:  Original_net cost: 0.4975712212479243, Decay_net cost: 0.33310978804135855\n",
      "Experiment #4:  Original_net cost: 0.41042285133852524, Decay_net cost: 0.3788462341011196\n",
      "Experiment #5:  Original_net cost: 0.4991094142224557, Decay_net cost: 0.3589486057812124\n",
      "Experiment #6:  Original_net cost: 0.35739481499529213, Decay_net cost: 0.3521265408014899\n",
      "Experiment #7:  Original_net cost: 0.4247001924177813, Decay_net cost: 0.2763159976837375\n",
      "Experiment #8:  Original_net cost: 0.3767928575011165, Decay_net cost: 0.34270448113356844\n",
      "Experiment #9:  Original_net cost: 0.6235870462645811, Decay_net cost: 0.4718841181227023\n",
      "mean cost of original_net for 10 runs: 0.441972952497789\n",
      "mean cost of decay_net for 10 runs: 0.3642731960859195\n"
     ]
    }
   ],
   "source": [
    "arr = np.zeros((10, 3))\n",
    "for i in range(10):\n",
    "    original_net = RobustNetwork(\"MSE\")\n",
    "    original_net.AddLayer(Network.Layer(1))\n",
    "    original_net.AddLayer(Network.Layer(10, \"arctan\"))\n",
    "    original_net.AddLayer(Network.Layer(1, \"identity\"))\n",
    "    decay_net = copy.deepcopy(original_net)\n",
    "    train3, test3 = GenerateDatasets(5)\n",
    "    original_net.SGD(train3[0], train3[1], lrate=1, epochs=5000, batch_size=5)\n",
    "    decay_net.SGD(train3[0], train3[1], lrate=1, epochs=5000, batch_size=5, decay=0.0004)\n",
    "    origin_cost = original_net.Evaluate(test3[0], test3[1])\n",
    "    decay_cost = decay_net.Evaluate(test3[0], test3[1])\n",
    "    arr[i][0] = i\n",
    "    arr[i][1] = origin_cost\n",
    "    arr[i][2] = decay_cost\n",
    "    print(\"Experiment #\" + str(i) + \":  Original_net cost: \"+str(origin_cost) + \", Decay_net cost: \"+ str(decay_cost))\n",
    "\n",
    "#print mean cost of both network\n",
    "sum1 = 0\n",
    "sum2 = 0\n",
    "for row in arr:\n",
    "    sum1 += row[1]\n",
    "    sum2 += row[2]\n",
    "mean1 = sum1/10\n",
    "mean2 = sum2/10\n",
    "print(\"mean cost of original_net for 10 runs: \" + str(mean1))\n",
    "print(\"mean cost of decay_net for 10 runs: \" + str(mean2))"
   ]
  },
  {
   "cell_type": "markdown",
   "metadata": {},
   "source": [
    "I prefer decay model. Based on the ten experiments above, Decay_net always has the less cost then original_net. Besides, based on research, the large weight in the trained network normally means the network is well specialized on the training data, leading to an overfitting, so that it is more sensitive to the noise in training data, making model unstable and ungeneral. Therefore, we use weight decay method to generate a small weight model."
   ]
  },
  {
   "cell_type": "markdown",
   "metadata": {},
   "source": [
    "# Q4: Classifier Networks"
   ]
  },
  {
   "cell_type": "markdown",
   "metadata": {},
   "source": [
    "## Create and interesting dataset"
   ]
  },
  {
   "cell_type": "code",
   "execution_count": 12,
   "metadata": {
    "code_folding": [
     18
    ]
   },
   "outputs": [],
   "source": [
    "def ClassPlot(x, y):\n",
    "    # FeedForward\n",
    "    yc = Network.OneHot(y)\n",
    "    colour_options = ['y', 'b', 'r', 'g', 'k']\n",
    "    cidx = np.argmax(yc, axis=1)\n",
    "    colours = [colour_options[k] for k in cidx]\n",
    "    plt.scatter(x[:,0],x[:,1], color=colours, marker='.')\n",
    "    plt.axis('equal');\n",
    "\n",
    "def GaussianCluster(mu, sa, N, theta=0.):\n",
    "    theta_rad = theta/180*np.pi\n",
    "    c, s = np.cos(theta_rad), np.sin(theta_rad)\n",
    "    R = np.array([[c,-s],[s,c]])\n",
    "    M = R @ np.diag(sa) @ R.T\n",
    "    y = np.random.multivariate_normal(mu, M, N)\n",
    "    return y\n",
    "\n",
    "def CreateDataset(params):\n",
    "    '''\n",
    "        train, test = CreateDataset(params)\n",
    "        \n",
    "        Creates a dataset using a bunch of Gaussian clouds.\n",
    "        \n",
    "        Inputs:\n",
    "          params is a list of 5-tuples. Each tuple (or list)\n",
    "             describes a 2-D Gaussian cloud:\n",
    "             1) the mean\n",
    "             2) standard deviation along x and y directions\n",
    "             3) rotation of cloud (degrees counter-clockwise)\n",
    "             4) class index\n",
    "             5) number of points\n",
    "             \n",
    "        Outputs:\n",
    "          train is a list containing 2 arrays\n",
    "             - the first array contains the training inputs,\n",
    "               one per row\n",
    "             - the second array contains the corresponding classes\n",
    "          test has the same structure as train, but with\n",
    "               half the number of samples\n",
    "    '''\n",
    "    train_inputs = []\n",
    "    train_outputs = []\n",
    "    test_inputs = []\n",
    "    test_outputs = []\n",
    "    all_c = [p[3] for p in params]\n",
    "    n_classes = np.max(all_c)\n",
    "    for p in params:\n",
    "        xx = GaussianCluster(p[0], p[1], p[4], theta=p[2])\n",
    "        yy = np.zeros((p[4], n_classes+1))\n",
    "        yy[:,p[3]] = 1.\n",
    "        train_inputs.append(xx)\n",
    "        train_outputs.append(yy)\n",
    "        xtest = GaussianCluster(p[0], p[1], int(p[4]/2), theta=p[2])\n",
    "        ytest = np.zeros((int(p[4]/2), n_classes+1))\n",
    "        ytest[:,p[3]] = 1.\n",
    "        test_inputs.append(xtest)\n",
    "        test_outputs.append(ytest)\n",
    "    train = [np.vstack(train_inputs), np.vstack(train_outputs)]\n",
    "    test = [np.vstack(test_inputs), np.vstack(test_outputs)]\n",
    "    return train, test\n",
    "\n",
    "# 0=y, 1=b, 2=r\n",
    "params = [[[0.5, 0.5],   [0.025, 0.01],  -45, 0, 50],\n",
    "          [[-0.5,-0.5],  [0.025, 0.01],  -45, 0, 50],\n",
    "          [[-0.3,-0.35], [0.04,0.01],     10, 0, 80],\n",
    "          [[0.6,0],      [0.01,0.01],      0, 0, 50],\n",
    "          [[0.1,-0.04],  [0.1,0.005],     20, 0, 80],\n",
    "          [[0.5,-0.5],   [0.02,0.01],     45, 1, 50],\n",
    "          [[0,0.6],      [0.01,0.01],      0, 1, 50],\n",
    "          [[-0.5,0.1],   [0.02,0.01],     30, 1, 80],\n",
    "          [[-0.5,0.5],   [0.02,0.01],     45, 2, 50],\n",
    "          [[0,-0.6],     [0.01,0.01],      0, 2, 50],\n",
    "          [[0.2,0.3],    [0.01,0.004],     0, 2, 80],\n",
    "          [[-0.2,0.37],  [0.02,0.005],   -30, 2, 50],\n",
    "          [[0.25,-0.3],  [0.005,0.01],     0, 3, 60],\n",
    "          [[-0.1,0.1],   [0.01,0.01],    -30, 3, 50]\n",
    "         ]"
   ]
  },
  {
   "cell_type": "code",
   "execution_count": 44,
   "metadata": {},
   "outputs": [],
   "source": [
    "train, test = CreateDataset(params)"
   ]
  },
  {
   "cell_type": "code",
   "execution_count": 45,
   "metadata": {},
   "outputs": [
    {
     "data": {
      "image/png": "[encoded data removed]",
      "text/plain": [
       "<Figure size 432x288 with 1 Axes>"
      ]
     },
     "metadata": {
      "needs_background": "light"
     },
     "output_type": "display_data"
    }
   ],
   "source": [
    "ClassPlot(train[0], train[1]);"
   ]
  },
  {
   "cell_type": "markdown",
   "metadata": {},
   "source": [
    "## (a) Create and Evaluate a Neural Network"
   ]
  },
  {
   "cell_type": "code",
   "execution_count": 46,
   "metadata": {},
   "outputs": [],
   "source": [
    "net = Network.Network(\"cross-entropy\")\n",
    "net.AddLayer(Network.Layer(2))\n",
    "net.AddLayer(Network.Layer(10, \"logistic\"))\n",
    "net.AddLayer(Network.Layer(4, \"logistic\"))\n",
    "progress = net.SGD(train[0], train[1], epochs=400, lrate=0.5)"
   ]
  },
  {
   "cell_type": "markdown",
   "metadata": {},
   "source": [
    "## (b) Evaluate Model"
   ]
  },
  {
   "cell_type": "code",
   "execution_count": 47,
   "metadata": {
    "scrolled": true
   },
   "outputs": [
    {
     "name": "stdout",
     "output_type": "stream",
     "text": [
      "0.5927710843373494\n"
     ]
    },
    {
     "data": {
      "image/png": "[encoded data removed]",
      "text/plain": [
       "<Figure size 432x288 with 1 Axes>"
      ]
     },
     "metadata": {
      "needs_background": "light"
     },
     "output_type": "display_data"
    }
   ],
   "source": [
    "output = net.FeedForward(test[0])\n",
    "print(str(Network.ClassificationAccuracy(output, test[1])))\n",
    "ClassPlot(test[0], test[1]);"
   ]
  },
  {
   "cell_type": "markdown",
   "metadata": {},
   "source": [
    "## (c) Crappy Network"
   ]
  },
  {
   "cell_type": "code",
   "execution_count": 48,
   "metadata": {},
   "outputs": [],
   "source": [
    "net = Network.Network(\"MSE\")\n",
    "net.AddLayer(Network.Layer(2))\n",
    "net.AddLayer(Network.Layer(10, \"identity\"))\n",
    "net.AddLayer(Network.Layer(4, \"identity\"))\n",
    "progress = net.SGD(train[0], train[1], epochs=400, lrate=0.5)"
   ]
  },
  {
   "cell_type": "code",
   "execution_count": 49,
   "metadata": {},
   "outputs": [
    {
     "name": "stdout",
     "output_type": "stream",
     "text": [
      "0.5036144578313253\n"
     ]
    },
    {
     "data": {
      "image/png": "[encoded data removed]",
      "text/plain": [
       "<Figure size 432x288 with 1 Axes>"
      ]
     },
     "metadata": {
      "needs_background": "light"
     },
     "output_type": "display_data"
    }
   ],
   "source": [
    "output = net.FeedForward(test[0])\n",
    "print(str(Network.ClassificationAccuracy(output, test[1])))\n",
    "ClassPlot(test[0], test[1]);"
   ]
  },
  {
   "cell_type": "code",
   "execution_count": null,
   "metadata": {},
   "outputs": [],
   "source": []
  },
  {
   "cell_type": "code",
   "execution_count": null,
   "metadata": {},
   "outputs": [],
   "source": []
  }
 ],
 "metadata": {
  "kernelspec": {
   "display_name": "Python 3",
   "language": "python",
   "name": "python3"
  },
  "language_info": {
   "codemirror_mode": {
    "name": "ipython",
    "version": 3
   },
   "file_extension": ".py",
   "mimetype": "text/x-python",
   "name": "python",
   "nbconvert_exporter": "python",
   "pygments_lexer": "ipython3",
   "version": "3.7.1"
  },
  "toc": {
   "nav_menu": {},
   "number_sections": true,
   "sideBar": true,
   "skip_h1_title": false,
   "title_cell": "Table of Contents",
   "title_sidebar": "Contents",
   "toc_cell": false,
   "toc_position": {},
   "toc_section_display": true,
   "toc_window_display": false
  }
 },
 "nbformat": 4,
 "nbformat_minor": 2
}
