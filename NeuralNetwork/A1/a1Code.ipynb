{
 "cells": [
  {
   "cell_type": "markdown",
   "metadata": {},
   "source": [
    "# A1"
   ]
  },
  {
   "cell_type": "code",
   "execution_count": 1,
   "metadata": {
    "code_folding": [
     0
    ]
   },
   "outputs": [],
   "source": [
    "# Standard imports\n",
    "import numpy as np\n",
    "import math\n",
    "import matplotlib.pylab as plt\n",
    "%matplotlib inline\n",
    "from scipy import integrate"
   ]
  },
  {
   "cell_type": "markdown",
   "metadata": {
    "heading_collapsed": true
   },
   "source": [
    "## Some supplied helper functions"
   ]
  },
  {
   "cell_type": "code",
   "execution_count": 2,
   "metadata": {
    "code_folding": [],
    "hidden": true
   },
   "outputs": [],
   "source": [
    "def PlotSpikeRaster(st, y_range=[0, 1.]):\n",
    "    '''\n",
    "    PlotSpikeRaster(spiketimes, y_range=[0, 1.])\n",
    "\n",
    "    Plots a spike raster plot for a list of arrays of spike times.\n",
    "\n",
    "    Input:\n",
    "      spiketimes is a list of arrays of spike times, like that returned\n",
    "          by the function Stim2Spikes.\n",
    "      y_range is a 2-tuple that holds the y-values that the raster ticks\n",
    "          should be drawn between\n",
    "    '''\n",
    "    N = len(st)  # number of neurons\n",
    "\n",
    "    #levels = np.linspace(y_range[0], y_range[1], N+1, endpoint=True)\n",
    "    levels = np.linspace(y_range[1], y_range[0], N+1, endpoint=True)\n",
    "    for n in range(N):\n",
    "        nspikes = len(st[n])\n",
    "        #y = [ [levels[n]]*nspikes , [levels[n+1]]*nspikes ]\n",
    "        y = [ [levels[n+1]]*nspikes , [levels[n]]*nspikes ]\n",
    "        #y = y_range[0] + [levels[n]]*nspikes\n",
    "        plt.plot(np.vstack((st[n],st[n])), y, color=np.random.rand(3))\n",
    "    plt.ylim(y_range)\n",
    "    plt.xlabel('Time (s)')\n",
    "    return\n",
    "\n",
    "\n",
    "def GenerateSpikeTrain(rates, T, jitter=0.):\n",
    "    '''\n",
    "    spike_times = GenerateSpikeTrain(rates, T)\n",
    "    \n",
    "    Creates a spike train (as an array of time stamps).\n",
    "    \n",
    "    Input:\n",
    "    rates is an array or list of firing rates (in Hz), one\n",
    "        firing rate for each interval.\n",
    "    T is an array or list (the same size as 'rates') that gives\n",
    "        the time to end each interval\n",
    "    jitter is a scalar that determines how much the spikes\n",
    "        are randomly moved\n",
    "        \n",
    "    Output:\n",
    "    spike_times is an array of times when spikes occurred\n",
    "    \n",
    "    Example: To create a spike train of 10Hz for 0.5s, followed\n",
    "             by 25Hz that starts at 0.5s and ends at 2s, use\n",
    "             \n",
    "               GenerateSpikeTrain([10, 25], [0.5, 2])\n",
    "    '''\n",
    "    s = []\n",
    "    t = 0.\n",
    "    for idx in range(0,len(rates)):\n",
    "        Trange = T[idx] - t\n",
    "        if rates[idx]!=0:\n",
    "            delta = 1. / rates[idx]\n",
    "            N = rates[idx] * Trange\n",
    "            times = np.arange(t+delta/2., T[idx], delta)\n",
    "            times += np.random.normal(scale=delta*jitter, size=np.shape(times))\n",
    "            s.extend(times)\n",
    "        t = T[idx]\n",
    "    s.sort()\n",
    "    return np.array(s)\n",
    "\n",
    "\n",
    "class InputNeuron(object):\n",
    "    \n",
    "    def __init__(self, spiketrain):\n",
    "        '''\n",
    "        InputNeuron(spiketrain)\n",
    "        \n",
    "        Constructor for InputNeuron class.\n",
    "        \n",
    "        InputNeuron is a class of neuron that can be used to inject spikes into\n",
    "        the network. When involved in a simulation, an InputNeuron will generate\n",
    "        spikes at the times specified during its construction.\n",
    "        \n",
    "        Inputs:\n",
    "         spiketrain is an array or list of spike times\n",
    "        '''\n",
    "        self.spikes = np.array(spiketrain)\n",
    "\n",
    "    def SpikesBetween(self, t_start, t_end):\n",
    "        '''\n",
    "        numspikes = InputNeuron.SpikesBetween(t_start, t_end)\n",
    "        \n",
    "        Returns the number of times the neuron spiked between t_start and t_end.\n",
    "        Specifically, it counts a spike if it occurred at t, where\n",
    "        t_start <= t < t_end\n",
    "        '''\n",
    "        sp_bool = np.logical_and( np.array(self.spikes)>=t_start, np.array(self.spikes)<t_end )\n",
    "        return np.sum(sp_bool)\n",
    "    \n",
    "    def Slope(self):\n",
    "        return\n",
    "    \n",
    "    def Step(self, t, dt):\n",
    "        return"
   ]
  },
  {
   "cell_type": "markdown",
   "metadata": {},
   "source": [
    "# Q1: LIFNeuron Class"
   ]
  },
  {
   "cell_type": "markdown",
   "metadata": {},
   "source": [
    "## LIFNeuron class"
   ]
  },
  {
   "cell_type": "code",
   "execution_count": 4,
   "metadata": {
    "code_folding": []
   },
   "outputs": [],
   "source": [
    "class LIFNeuron(object):\n",
    "\n",
    "    def __init__(self, tau_m=0.02, tau_ref=0.002, tau_s=0.05):\n",
    "        '''\n",
    "        LIFNeuron(tau_m=0.02, tau_ref=0.002, tau_s=0.05)\n",
    "        \n",
    "        Constructor for LIFNeuron class\n",
    "        \n",
    "        Inputs:\n",
    "         tau_m   membrane time constant, in seconds (s)\n",
    "         tau_ref refractory period (s)\n",
    "         tau_s   synaptic time constant (s)\n",
    "        '''\n",
    "        self.tau_m = tau_m      # membrane time constant\n",
    "        self.tau_ref = tau_ref  # refractory period\n",
    "        self.tau_s = tau_s      # synaptic time constant\n",
    "        self.v = 0.             # sub-threshold membrane potential (voltage)\n",
    "        self.s = 0.             # post-synaptic current (PSC)\n",
    "        self.dvdt = 0.          # slope of v (w.r.t. time)\n",
    "        self.dsdt = 0.          # slope of s (w.r.t. time)\n",
    "        \n",
    "        self.weighted_incoming_spikes = 0.  # weighted sum of incoming spikes (for one time step)\n",
    "        self.ref_remaining = 0. # amount of time remaining in the refractory period\n",
    "        \n",
    "        # For plotting\n",
    "        self.v_history = []     # records v over time\n",
    "        self.spikes = []        # list of times when this neuron spiked\n",
    "        \n",
    "\n",
    "    def SpikesBetween(self, t_start, t_end):\n",
    "        '''\n",
    "        numspikes = LIFNeuron.SpikesBetween(t_start, t_end)\n",
    "        \n",
    "        Returns the number of times the neuron spiked between t_start and t_end.\n",
    "        Specifically, it counts a spike if it occurred at t, where\n",
    "        t_start <= t < t_end\n",
    "        '''\n",
    "        sp_bool = np.logical_and( np.array(self.spikes)>=t_start, np.array(self.spikes)<t_end )\n",
    "        return np.sum(sp_bool)\n",
    "    \n",
    "    \n",
    "    def Slope(self):\n",
    "        '''\n",
    "        LIFNeuron.Slope()\n",
    "        \n",
    "        Evaluates the right-hand side of the differential equations that\n",
    "        govern v and s. The slopes get stored in the internal variables\n",
    "          self.dvdt, and\n",
    "          self.dsdt\n",
    "        '''\n",
    "        #==== REPLACE THE CODE BELOW ====\n",
    "        self.dvdt = (self.s - self.v)/ self.tau_m\n",
    "        self.dsdt = - self.s/self.tau_s\n",
    "        \n",
    "        \n",
    "    def Step(self, t, dt):\n",
    "        '''\n",
    "        LIFNeuron.Step(t, dt)\n",
    "        \n",
    "        Updates the LIF neuron state by taking an Euler step in v and s.\n",
    "        If v reaches the threshold of 1, the neuron fires an action potential\n",
    "        (spike). The spike time is appended to the list self.spikes, and v\n",
    "        is set to zero. After a spike, the neuron is dormant for self.tau_ref\n",
    "        seconds.\n",
    "        \n",
    "        If a spike occurs part-way through a time step, inear interpolation\n",
    "        is used to estimate the time that v hit the threshold of 1.\n",
    "        '''\n",
    "        \n",
    "        #==== PLACE YOUR CODE HERE ====\n",
    "        \n",
    "        # Store v (for plotting), and reset incoming spike accumulator\n",
    "        self.s = self.s + dt * self.dsdt + self.weighted_incoming_spikes/self.tau_s\n",
    "        if self.ref_remaining > 0:\n",
    "            self.v = 0\n",
    "            self.ref_remaining -= dt\n",
    "        else :\n",
    "            self.v += dt * self.dvdt\n",
    "            \n",
    "        if self.v >= 1:\n",
    "            t_to_spike = (1- self.v_history[-1]) / (self.v - self.v_history[-1]) * dt\n",
    "            tspike = t_to_spike + t\n",
    "            self.spikes.append(tspike)\n",
    "            self.ref_remaining = dt - t_to_spike\n",
    "            self.v = 1\n",
    "        self.v_history.append(self.v) \n",
    "        self.weighted_incoming_spikes = 0\n",
    "        \n",
    "    def ReceiveSpike(self, w):\n",
    "        '''\n",
    "        LIFNeuron.ReceiveSpike(w)\n",
    "        \n",
    "        Registers the arrival of a spike from a presynaptic neuron. The\n",
    "        member variable self.weighted_incoming_spikes keeps track of all\n",
    "        the incoming spikes, each weighted by their respective connection\n",
    "        weights. It is sufficient to add them all together to tabulate the\n",
    "        total incoming weighted spikes (from all presynaptic neurons).\n",
    "        \n",
    "        Input:\n",
    "         w    is the connection weight from the presynaptic neuron.\n",
    "        '''\n",
    "        self.weighted_incoming_spikes += w  # [1]\n",
    "        "
   ]
  },
  {
   "cell_type": "markdown",
   "metadata": {
    "heading_collapsed": true
   },
   "source": [
    "# Q2: SpikingNetwork Class"
   ]
  },
  {
   "cell_type": "markdown",
   "metadata": {
    "heading_collapsed": true,
    "hidden": true
   },
   "source": [
    "## SpikingNetwork Class"
   ]
  },
  {
   "cell_type": "code",
   "execution_count": 5,
   "metadata": {
    "hidden": true
   },
   "outputs": [],
   "source": [
    "class SpikingNetwork(object):\n",
    "    \n",
    "    def __init__(self):\n",
    "        '''\n",
    "        SpikingNetwork()\n",
    "        \n",
    "        Constructor for SpikingNetwork class.\n",
    "        \n",
    "        The SpikingNetwork class contains a collection of neurons,\n",
    "        and the connections between those neurons.\n",
    "        '''\n",
    "        self.neurons = []      # List of neurons (of various kinds)\n",
    "        self.connections = []  # List of connections\n",
    "        self.t_history = []    # List of time stamps for the Euler steps\n",
    "                               # (Useful for plotting)\n",
    "        \n",
    "        \n",
    "    def AddNeuron(self, neur):\n",
    "        '''\n",
    "        SpikingNetwork.AddNeuron(neuron)\n",
    "        \n",
    "        Adds a neuron to the network.\n",
    "        \n",
    "        Input:\n",
    "         neuron is an object of type LIFNeuron or InputNeuron\n",
    "        '''\n",
    "        self.neurons.append(neur)\n",
    "\n",
    "        \n",
    "    def Connect(self, pre, post, w):\n",
    "        '''\n",
    "        SpikingNetwork.Connect(pre, post, w)\n",
    "        \n",
    "        Connects neuron 'pre' to neuron 'post' with a connection\n",
    "        weigth of w.\n",
    "        \n",
    "        Each \"connection\" is a list of 3 numbers of the form:\n",
    "         [ pre_idx, post_idx, weight ]\n",
    "        where\n",
    "         pre_idx is the list index of the pre-synaptic neuron,\n",
    "         post_idx is the list index of the post-synaptic neuron, and\n",
    "         weight is the connection weight.\n",
    "        eg. self.connections = [[0,1,0.05], [1,2,0.04], [1,0,-0.2]]\n",
    "        '''\n",
    "        self.connections.append([pre, post, w])\n",
    "     \n",
    "    \n",
    "    def Simulate(self, T, dt=0.001):\n",
    "        '''\n",
    "        SpikingNetwork.Simulate(T, dt=0.001)\n",
    "        \n",
    "        Simulates the network for T seconds by taking Euler steps\n",
    "        of size dt.\n",
    "        \n",
    "        Inputs:\n",
    "         T    how long to integrate for\n",
    "         dt   time step for Euler's method\n",
    "        '''\n",
    "        # This code takes care of recording time samples in a way\n",
    "        # that allows continuation. You needn't fuss over this code.\n",
    "        current = 0 if len(self.t_history)==0 else self.t_history[-1]\n",
    "        t_segment = np.arange(current, current+T, dt)\n",
    "        \n",
    "        #==== HERE IS WHERE YOUR CODE STARTS ====\n",
    "        \n",
    "        # Loop over time steps (I've set that up for you)\n",
    "        for tt in t_segment:\n",
    "            self.t_history.append(tt)  # Record time stamp\n",
    "            for neuron in self.neurons:\n",
    "                neuron.Slope()\n",
    "            for neuron in self.neurons:\n",
    "                neuron.Step(tt, dt)\n",
    "            for pair in self.connections:\n",
    "                pre = pair[0]\n",
    "                post = pair[1]\n",
    "                weight = pair[2]\n",
    "                self.neurons[post].ReceiveSpike(self.neurons[pre].SpikesBetween(tt, tt+dt) * weight)\n",
    "\n",
    "        \n",
    "        \n",
    "    def AllSpikeTimes(self):\n",
    "        '''\n",
    "        SpikingNetwork.AllSpikeTimes()\n",
    "        \n",
    "        Returns all the spikes of all the neurons in the network.\n",
    "        Useful for making spike-raster plots of network activity.\n",
    "        \n",
    "        Output:\n",
    "         all_spikes  a list of sublists, where each sublist holds\n",
    "                     the spike times of one of the neurons\n",
    "        '''\n",
    "        blah = []\n",
    "        for neur in self.neurons:\n",
    "            blah.append(np.array(neur.spikes))\n",
    "        return blah"
   ]
  },
  {
   "cell_type": "markdown",
   "metadata": {
    "heading_collapsed": true
   },
   "source": [
    "# Q3: Experiments with Spiking Networks"
   ]
  },
  {
   "cell_type": "markdown",
   "metadata": {
    "hidden": true
   },
   "source": [
    "## (a) One LIF Neuron"
   ]
  },
  {
   "cell_type": "code",
   "execution_count": 46,
   "metadata": {
    "hidden": true
   },
   "outputs": [],
   "source": [
    "net = SpikingNetwork()\n",
    "net.AddNeuron(LIFNeuron(tau_s=0.1))  # Neuron 0\n",
    "net.AddNeuron(InputNeuron( GenerateSpikeTrain([30], [1]) ))  # Neuron 1\n",
    "net.Connect(1, 0, 0.05)  # Connect from neuron 1 to neuron 0\n",
    "\n",
    "net.Simulate(1, 0.001)"
   ]
  },
  {
   "cell_type": "code",
   "execution_count": 47,
   "metadata": {
    "hidden": true
   },
   "outputs": [
    {
     "data": {
      "image/png": "[encoded data removed]",
      "text/plain": [
       "<Figure size 432x288 with 1 Axes>"
      ]
     },
     "metadata": {
      "needs_background": "light"
     },
     "output_type": "display_data"
    }
   ],
   "source": [
    "# i.\n",
    "plt.plot(net.neurons[0].v_history)\n",
    "plt.show()"
   ]
  },
  {
   "cell_type": "code",
   "execution_count": 48,
   "metadata": {
    "hidden": true,
    "scrolled": true
   },
   "outputs": [
    {
     "data": {
      "image/png": "[encoded data removed]",
      "text/plain": [
       "<Figure size 432x288 with 1 Axes>"
      ]
     },
     "metadata": {
      "needs_background": "light"
     },
     "output_type": "display_data"
    }
   ],
   "source": [
    "# ii.\n",
    "PlotSpikeRaster(net.AllSpikeTimes(), [0, 1]);"
   ]
  },
  {
   "cell_type": "markdown",
   "metadata": {
    "hidden": true
   },
   "source": [
    "## (b) LIF Firing Rate Curve"
   ]
  },
  {
   "cell_type": "code",
   "execution_count": 49,
   "metadata": {
    "hidden": true
   },
   "outputs": [],
   "source": [
    "# i.\n",
    "freq = 5;\n",
    "freqs = [];\n",
    "t = 2;\n",
    "times = [];\n",
    "while freq <= 100:\n",
    "    freqs.append(freq);\n",
    "    times.append(t);\n",
    "    freq += 5;\n",
    "    t +=2;\n",
    "\n",
    "net = SpikingNetwork();\n",
    "net.AddNeuron(InputNeuron(GenerateSpikeTrain(freqs, times)));\n",
    "net.AddNeuron(LIFNeuron());\n",
    "net.Connect(0, 1, 0.03);\n",
    "\n",
    "net.Simulate(40);"
   ]
  },
  {
   "cell_type": "code",
   "execution_count": 50,
   "metadata": {
    "hidden": true
   },
   "outputs": [
    {
     "name": "stdout",
     "output_type": "stream",
     "text": [
      "between the time 0 and time2 there are 0 times of spikes occur\n",
      "between the time 2 and time4 there are 0 times of spikes occur\n",
      "between the time 4 and time6 there are 0 times of spikes occur\n",
      "between the time 6 and time8 there are 1 times of spikes occur\n",
      "between the time 8 and time10 there are 0 times of spikes occur\n",
      "between the time 10 and time12 there are 0 times of spikes occur\n",
      "between the time 12 and time14 there are 33 times of spikes occur\n",
      "between the time 14 and time16 there are 53 times of spikes occur\n",
      "between the time 16 and time18 there are 75 times of spikes occur\n",
      "between the time 18 and time20 there are 89 times of spikes occur\n",
      "between the time 20 and time22 there are 102 times of spikes occur\n",
      "between the time 22 and time24 there are 117 times of spikes occur\n",
      "between the time 24 and time26 there are 131 times of spikes occur\n",
      "between the time 26 and time28 there are 140 times of spikes occur\n",
      "between the time 28 and time30 there are 152 times of spikes occur\n",
      "between the time 30 and time32 there are 166 times of spikes occur\n",
      "between the time 32 and time34 there are 170 times of spikes occur\n",
      "between the time 34 and time36 there are 185 times of spikes occur\n",
      "between the time 36 and time38 there are 200 times of spikes occur\n",
      "between the time 38 and time40 there are 200 times of spikes occur\n"
     ]
    }
   ],
   "source": [
    "# ii.\n",
    "spiketimes = []\n",
    "t = 2\n",
    "while t <= 40:\n",
    "    spikes = net.neurons[1].SpikesBetween(t-2, t)\n",
    "    print(\"between the time \"+ str(t - 2) + \" and time\" + str(t)+ \" there are \" + str(spikes) + \" times of spikes occur\")\n",
    "    t += 2\n",
    "    spiketimes.append(spikes)"
   ]
  },
  {
   "cell_type": "code",
   "execution_count": 51,
   "metadata": {
    "hidden": true
   },
   "outputs": [
    {
     "data": {
      "image/png": "[encoded data removed]",
      "text/plain": [
       "<Figure size 432x288 with 1 Axes>"
      ]
     },
     "metadata": {
      "needs_background": "light"
     },
     "output_type": "display_data"
    }
   ],
   "source": [
    "# iii.\n",
    "plt.plot(freqs, spiketimes, \".\");\n",
    "plt.xlabel(\"input firing rate\");\n",
    "plt.ylabel(\"LIF firing rate\");\n",
    "plt.show();"
   ]
  },
  {
   "cell_type": "markdown",
   "metadata": {
    "hidden": true
   },
   "source": [
    "## (c) Two LIF Neurons"
   ]
  },
  {
   "cell_type": "code",
   "execution_count": 52,
   "metadata": {
    "hidden": true
   },
   "outputs": [],
   "source": [
    "# i.\n",
    "net = SpikingNetwork();\n",
    "net.AddNeuron(LIFNeuron());\n",
    "net.AddNeuron(LIFNeuron());\n",
    "net.AddNeuron(InputNeuron(GenerateSpikeTrain([30], [0.3])));\n",
    "net.Connect(0, 1, 0.05);\n",
    "net.Connect(1, 0, 0.05);\n",
    "net.Connect(2, 0, 0.05);\n"
   ]
  },
  {
   "cell_type": "code",
   "execution_count": 53,
   "metadata": {
    "hidden": true
   },
   "outputs": [
    {
     "data": {
      "image/png": "[encoded data removed]",
      "text/plain": [
       "<Figure size 432x288 with 1 Axes>"
      ]
     },
     "metadata": {
      "needs_background": "light"
     },
     "output_type": "display_data"
    }
   ],
   "source": [
    "# ii.\n",
    "net.Simulate(1.5);\n",
    "\n",
    "PlotSpikeRaster(net.AllSpikeTimes(), [0, 1]);"
   ]
  },
  {
   "cell_type": "markdown",
   "metadata": {
    "hidden": true
   },
   "source": [
    "## (d) Three LIF Neurons: Inhibition"
   ]
  },
  {
   "cell_type": "code",
   "execution_count": 54,
   "metadata": {
    "hidden": true
   },
   "outputs": [],
   "source": [
    "# i.\n",
    "net = SpikingNetwork();\n",
    "net.AddNeuron(LIFNeuron()); #neuron 0(A)\n",
    "net.AddNeuron(LIFNeuron()); #neuron 1(B)\n",
    "net.AddNeuron(LIFNeuron());  #neuron 2(C)\n",
    "net.AddNeuron(InputNeuron(GenerateSpikeTrain([30], [0.3]))); #neuron 3\n",
    "net.AddNeuron(InputNeuron(GenerateSpikeTrain([0, 50], [0.7, 1.]))); #neuron 4\n",
    "net.Connect(0, 1, 0.05);\n",
    "net.Connect(1, 0, 0.05);\n",
    "net.Connect(3, 0, 0.05);\n",
    "net.Connect(2, 1, -0.2);\n",
    "net.Connect(4, 2, 0.05);"
   ]
  },
  {
   "cell_type": "code",
   "execution_count": 55,
   "metadata": {
    "hidden": true
   },
   "outputs": [
    {
     "data": {
      "image/png": "[encoded data removed]",
      "text/plain": [
       "<Figure size 432x288 with 1 Axes>"
      ]
     },
     "metadata": {
      "needs_background": "light"
     },
     "output_type": "display_data"
    }
   ],
   "source": [
    "# ii.\n",
    "net.Simulate(1.5);\n",
    "PlotSpikeRaster(net.AllSpikeTimes(), [0, 1.5]);"
   ]
  },
  {
   "cell_type": "markdown",
   "metadata": {
    "hidden": true
   },
   "source": [
    "### iii."
   ]
  },
  {
   "cell_type": "markdown",
   "metadata": {
    "hidden": true
   },
   "source": [
    "The presence of neuron C and its negative connection can reduce the spike frequence and presynpatic current of neuron A and B."
   ]
  },
  {
   "cell_type": "markdown",
   "metadata": {
    "hidden": true
   },
   "source": [
    "## (e) Ring Oscillator"
   ]
  },
  {
   "cell_type": "code",
   "execution_count": 56,
   "metadata": {
    "hidden": true
   },
   "outputs": [],
   "source": [
    "# i.\n",
    "net= SpikingNetwork()\n",
    "net.AddNeuron(LIFNeuron(tau_m=0.05, tau_s=0.1)); #neuron 0(A)\n",
    "net.AddNeuron(LIFNeuron(tau_m=0.05, tau_s=0.1)); #neuron 1(B)\n",
    "net.AddNeuron(LIFNeuron(tau_m=0.05, tau_s=0.1)); #neuron 2(C)\n",
    "net.AddNeuron(LIFNeuron(tau_m=0.05, tau_s=0.1)); #neuron 3(D)\n",
    "net.AddNeuron(LIFNeuron(tau_m=0.05, tau_s=0.1)); #neuron 4(E)\n",
    "net.AddNeuron(LIFNeuron(tau_m=0.05, tau_s=0.1)); #neuron 5(F)\n",
    "net.AddNeuron(LIFNeuron(tau_m=0.05, tau_s=0.1)); #neuron 6(G)\n",
    "net.AddNeuron(LIFNeuron(tau_m=0.05, tau_s=0.1)); #neuron 7(H)\n",
    "net.Connect(0, 1, 0.2);\n",
    "net.Connect(1, 2, 0.2);\n",
    "net.Connect(2, 3, 0.2);\n",
    "net.Connect(3, 4, 0.2);\n",
    "net.Connect(4, 5, 0.2);\n",
    "net.Connect(5, 6, 0.2);\n",
    "net.Connect(6, 7, 0.2);\n",
    "net.Connect(7, 0, 0.2);"
   ]
  },
  {
   "cell_type": "code",
   "execution_count": 57,
   "metadata": {
    "hidden": true
   },
   "outputs": [],
   "source": [
    "# ii.\n",
    "net.Connect(2, 1, -0.4);\n",
    "net.Connect(3, 2, -0.4);\n",
    "net.Connect(4, 3, -0.4);\n",
    "net.Connect(5, 4, -0.4);\n",
    "net.Connect(6, 5, -0.4);\n",
    "net.Connect(7, 6, -0.4);\n",
    "net.Connect(0, 7, -0.4);\n",
    "net.Connect(1, 0, -0.4);"
   ]
  },
  {
   "cell_type": "code",
   "execution_count": 58,
   "metadata": {
    "hidden": true
   },
   "outputs": [],
   "source": [
    "# iii.\n",
    "net.AddNeuron(InputNeuron(GenerateSpikeTrain([25], [0.3]))); #neuron 8\n",
    "net.Connect(8, 0, 0.2)"
   ]
  },
  {
   "cell_type": "code",
   "execution_count": 59,
   "metadata": {
    "hidden": true
   },
   "outputs": [
    {
     "data": {
      "image/png": "[encoded data removed]",
      "text/plain": [
       "<Figure size 432x288 with 1 Axes>"
      ]
     },
     "metadata": {
      "needs_background": "light"
     },
     "output_type": "display_data"
    }
   ],
   "source": [
    "# iv.\n",
    "net.Simulate(4)\n",
    "PlotSpikeRaster(net.AllSpikeTimes())"
   ]
  },
  {
   "cell_type": "markdown",
   "metadata": {
    "heading_collapsed": true
   },
   "source": [
    "# Q4: Neural Activation Functions"
   ]
  },
  {
   "cell_type": "markdown",
   "metadata": {
    "hidden": true
   },
   "source": [
    "## (a) ReLU derivative"
   ]
  },
  {
   "cell_type": "markdown",
   "metadata": {
    "hidden": true
   },
   "source": [
    "$$\n",
    "f(z) = \\left\\{\n",
    "\\begin{array}{ll}\n",
    "    0 & z<0 \\\\\n",
    "    1 & z>=0 \\\\\n",
    "\\end{array}\n",
    "\\right.\n",
    "$$"
   ]
  },
  {
   "cell_type": "markdown",
   "metadata": {
    "hidden": true
   },
   "source": [
    "## (b.i) Logistic"
   ]
  },
  {
   "cell_type": "code",
   "execution_count": 60,
   "metadata": {
    "hidden": true
   },
   "outputs": [
    {
     "data": {
      "image/png": "[encoded data removed]",
      "text/plain": [
       "<Figure size 432x288 with 1 Axes>"
      ]
     },
     "metadata": {
      "needs_background": "light"
     },
     "output_type": "display_data"
    }
   ],
   "source": [
    "# i.\n",
    "z = np.linspace(-6, 6, 500);\n",
    "sigma = 1/(1+ np.exp(-z))\n",
    "plt.plot(z, sigma, lw=2)\n",
    "plt.xlabel(\"z\")\n",
    "plt.ylabel(\"sigma(z)\")\n",
    "plt.show()\n"
   ]
  },
  {
   "cell_type": "markdown",
   "metadata": {
    "hidden": true
   },
   "source": [
    "When z is equal to 0, gradient is maximized. When z approachs positive infinity or negative infinity, the derivative approachs to 0."
   ]
  },
  {
   "cell_type": "markdown",
   "metadata": {
    "hidden": true
   },
   "source": [
    "## (b.ii) tanh"
   ]
  },
  {
   "cell_type": "code",
   "execution_count": 61,
   "metadata": {
    "hidden": true
   },
   "outputs": [
    {
     "data": {
      "image/png": "[encoded data removed]",
      "text/plain": [
       "<Figure size 432x288 with 1 Axes>"
      ]
     },
     "metadata": {
      "needs_background": "light"
     },
     "output_type": "display_data"
    }
   ],
   "source": [
    "# ii.\n",
    "z = np.linspace(-6, 6, 500);\n",
    "sigma = np.arctan(z)\n",
    "plt.plot(z, sigma, lw=2)\n",
    "plt.xlabel(\"z\")\n",
    "plt.ylabel(\"Arctan(z)\")\n",
    "plt.show()"
   ]
  },
  {
   "cell_type": "markdown",
   "metadata": {
    "hidden": true
   },
   "source": [
    "When z is equal to 0, gradient is maximized. When z approachs positive infinity or negative infinity, the derivative approachs to 0."
   ]
  },
  {
   "cell_type": "markdown",
   "metadata": {
    "hidden": true
   },
   "source": [
    "## (b.iii) ReLU"
   ]
  },
  {
   "cell_type": "code",
   "execution_count": 62,
   "metadata": {
    "hidden": true
   },
   "outputs": [
    {
     "data": {
      "image/png": "[encoded data removed]",
      "text/plain": [
       "<Figure size 432x288 with 1 Axes>"
      ]
     },
     "metadata": {
      "needs_background": "light"
     },
     "output_type": "display_data"
    }
   ],
   "source": [
    "# iii.\n",
    "z = np.linspace(-6, 6, 500);\n",
    "zero = np.zeros(len(z))\n",
    "sigma = np.max([zero, z], axis=0)\n",
    "plt.plot(z, sigma, lw=2)\n",
    "plt.xlabel(\"z\")\n",
    "plt.ylabel(\"sigma\")\n",
    "plt.show()"
   ]
  },
  {
   "cell_type": "markdown",
   "metadata": {
    "hidden": true
   },
   "source": [
    "when z <0, the derivative= 0; while z >= 0, the gradient is maximized."
   ]
  },
  {
   "cell_type": "markdown",
   "metadata": {
    "hidden": true
   },
   "source": [
    "## (c.i) Derivative of f with respect to x"
   ]
  },
  {
   "cell_type": "markdown",
   "metadata": {
    "hidden": true
   },
   "source": [
    "$$\n",
    "wf'(x)\n",
    "$$"
   ]
  },
  {
   "cell_type": "markdown",
   "metadata": {
    "hidden": true
   },
   "source": [
    "## (c.ii) Derivative of f with respect to W"
   ]
  },
  {
   "cell_type": "markdown",
   "metadata": {
    "hidden": true
   },
   "source": [
    "$$\n",
    "xf'(w)\n",
    "$$"
   ]
  },
  {
   "cell_type": "markdown",
   "metadata": {
    "hidden": true
   },
   "source": [
    "## (c.ii) Derivative of f with respect to b"
   ]
  },
  {
   "cell_type": "markdown",
   "metadata": {
    "hidden": true
   },
   "source": [
    "$$f'(b)$$"
   ]
  }
 ],
 "metadata": {
  "kernelspec": {
   "display_name": "Python 3",
   "language": "python",
   "name": "python3"
  },
  "language_info": {
   "codemirror_mode": {
    "name": "ipython",
    "version": 3
   },
   "file_extension": ".py",
   "mimetype": "text/x-python",
   "name": "python",
   "nbconvert_exporter": "python",
   "pygments_lexer": "ipython3",
   "version": "3.7.1"
  }
 },
 "nbformat": 4,
 "nbformat_minor": 2
}
